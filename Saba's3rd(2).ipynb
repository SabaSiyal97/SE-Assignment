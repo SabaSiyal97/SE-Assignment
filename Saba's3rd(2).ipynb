{
  "nbformat": 4,
  "nbformat_minor": 0,
  "metadata": {
    "colab": {
      "provenance": [],
      "authorship_tag": "ABX9TyN6Bg2MhNBCWPh3eOHm3993",
      "include_colab_link": true
    },
    "kernelspec": {
      "name": "python3",
      "display_name": "Python 3"
    },
    "language_info": {
      "name": "python"
    }
  },
  "cells": [
    {
      "cell_type": "markdown",
      "metadata": {
        "id": "view-in-github",
        "colab_type": "text"
      },
      "source": [
        "<a href=\"https://colab.research.google.com/github/SabaSiyal97/SE-Assignment/blob/master/Saba's3rd(2).ipynb\" target=\"_parent\"><img src=\"https://colab.research.google.com/assets/colab-badge.svg\" alt=\"Open In Colab\"/></a>"
      ]
    },
    {
      "cell_type": "markdown",
      "source": [
        "#Part 3:"
      ],
      "metadata": {
        "id": "H5ndbj_2hJkj"
      }
    },
    {
      "cell_type": "markdown",
      "source": [
        "1. Write a program that prints the multiplication table (from 1 to 10) of a given number.\n"
      ],
      "metadata": {
        "id": "S8zQbNxshWK2"
      }
    },
    {
      "cell_type": "code",
      "source": [
        "for i in range(1,11):\n",
        "  print(\"5 X\", i, \"=\", 5*i)"
      ],
      "metadata": {
        "colab": {
          "base_uri": "https://localhost:8080/"
        },
        "collapsed": true,
        "id": "M0mQ32IFhSj3",
        "outputId": "c275b366-5741-41da-dcd7-ccc8f41a96ce"
      },
      "execution_count": null,
      "outputs": [
        {
          "output_type": "stream",
          "name": "stdout",
          "text": [
            "5 X 1 = 5\n",
            "5 X 2 = 10\n",
            "5 X 3 = 15\n",
            "5 X 4 = 20\n",
            "5 X 5 = 25\n",
            "5 X 6 = 30\n",
            "5 X 7 = 35\n",
            "5 X 8 = 40\n",
            "5 X 9 = 45\n",
            "5 X 10 = 50\n"
          ]
        }
      ]
    },
    {
      "cell_type": "markdown",
      "source": [
        "2. Write a function that takes a list of integers and returns a new list with all numbers multiplied by 2.\n"
      ],
      "metadata": {
        "id": "BGmviDZwigS0"
      }
    },
    {
      "cell_type": "code",
      "source": [
        "def list_of_integers(numbers):\n",
        "  new_list = []\n",
        "  for number in numbers:\n",
        "    new_list.append(number ** 2)\n",
        "  return new_list\n",
        "\n",
        "numbers = [2,3,4]\n",
        "list_of_integers(numbers)"
      ],
      "metadata": {
        "colab": {
          "base_uri": "https://localhost:8080/"
        },
        "id": "-_B8WWFmikij",
        "outputId": "a69aaae0-0b49-45a5-bbde-b81dcffc0a75"
      },
      "execution_count": null,
      "outputs": [
        {
          "output_type": "execute_result",
          "data": {
            "text/plain": [
              "[4, 9, 16]"
            ]
          },
          "metadata": {},
          "execution_count": 46
        }
      ]
    },
    {
      "cell_type": "markdown",
      "source": [
        "3. Implement a function that takes a list of strings and returns the longest string in the list.\n"
      ],
      "metadata": {
        "id": "eyhflhZwtTvd"
      }
    },
    {
      "cell_type": "code",
      "source": [
        "def list_of_strings(strings):\n",
        "  new_string = []\n",
        "  max_string = max(strings)\n",
        "  for string in strings:\n",
        "    if string < max_string:\n",
        "      new_string.append(string)\n",
        "  return new_string\n",
        "\n",
        "strings = [\"saba\",\"maheen\",\"hahahaahahahha\"]\n",
        "list_of_strings(strings)"
      ],
      "metadata": {
        "id": "7zV68WyP3GmQ",
        "colab": {
          "base_uri": "https://localhost:8080/"
        },
        "outputId": "5316d5db-1d49-42ab-c06f-6095632c5096"
      },
      "execution_count": null,
      "outputs": [
        {
          "output_type": "execute_result",
          "data": {
            "text/plain": [
              "['maheen', 'hahahaahahahha']"
            ]
          },
          "metadata": {},
          "execution_count": 19
        }
      ]
    },
    {
      "cell_type": "markdown",
      "source": [
        "4. Create a function that takes a list of integers and returns the sum of all numbers in the list using a for loop.\n"
      ],
      "metadata": {
        "id": "8BJ0eRHyKL0i"
      }
    },
    {
      "cell_type": "code",
      "source": [
        "def  list_of_integers(numbers):\n",
        "  total_sum = 0\n",
        "  for number in numbers:\n",
        "    total_sum += number\n",
        "  return total_sum\n",
        "\n",
        "numbers = [1,2,3]\n",
        "list_of_integers(numbers)"
      ],
      "metadata": {
        "colab": {
          "base_uri": "https://localhost:8080/"
        },
        "id": "qO9aVq5bKVtV",
        "outputId": "0af0ba73-c2d4-41b7-c023-93b410de1d6c"
      },
      "execution_count": null,
      "outputs": [
        {
          "output_type": "execute_result",
          "data": {
            "text/plain": [
              "6"
            ]
          },
          "metadata": {},
          "execution_count": 8
        }
      ]
    },
    {
      "cell_type": "markdown",
      "source": [
        "5. Write a function that takes a list of integers and returns the number of negative numbers in the list using a for loop."
      ],
      "metadata": {
        "id": "47WqZQHPmV-x"
      }
    },
    {
      "cell_type": "code",
      "source": [
        "def list_of_integers(numbers):\n",
        "  negative_numbers = []\n",
        "  for number in numbers:\n",
        "    if number < 0:\n",
        "      negative_numbers.append(number)\n",
        "  return negative_numbers\n",
        "\n",
        "numbers = [-1,2,-3,4,-5]\n",
        "list_of_integers(numbers)"
      ],
      "metadata": {
        "colab": {
          "base_uri": "https://localhost:8080/"
        },
        "id": "b3OUzIb6mdGR",
        "outputId": "f19195cc-3cea-4b32-9dac-45a969fad6ec"
      },
      "execution_count": null,
      "outputs": [
        {
          "output_type": "execute_result",
          "data": {
            "text/plain": [
              "[-1, -3, -5]"
            ]
          },
          "metadata": {},
          "execution_count": 7
        }
      ]
    },
    {
      "cell_type": "markdown",
      "source": [
        "6. Implement a function that takes a list of integers and returns a new list with all numbers squared using a for loop.\n"
      ],
      "metadata": {
        "id": "BNwzVnki6_nc"
      }
    },
    {
      "cell_type": "code",
      "source": [
        "def list_of_integers(numbers):\n",
        "  squared_numbers = []\n",
        "  for number in numbers:\n",
        "      squared_numbers.append(number ** 2)\n",
        "  return squared_numbers\n",
        "\n",
        "numbers = [1,2,3,4,5]\n",
        "list_of_integers(numbers)"
      ],
      "metadata": {
        "colab": {
          "base_uri": "https://localhost:8080/"
        },
        "id": "MpEtuJuP7FCO",
        "outputId": "4f65e2b3-4c67-471c-f63c-c64c3f777cdf"
      },
      "execution_count": null,
      "outputs": [
        {
          "output_type": "execute_result",
          "data": {
            "text/plain": [
              "[1, 4, 9, 16, 25]"
            ]
          },
          "metadata": {},
          "execution_count": 12
        }
      ]
    },
    {
      "cell_type": "markdown",
      "source": [
        "7. Create a function that calculates the factorial of a number using a for loop.\n"
      ],
      "metadata": {
        "id": "tajatxFz9RSa"
      }
    },
    {
      "cell_type": "code",
      "source": [
        "def factorial_iterative(n):\n",
        "    result = 1\n",
        "    for i in range(1, n + 1):\n",
        "        result *= i  # Multiply result by i\n",
        "    return result\n",
        "\n",
        "print(factorial_iterative(5))"
      ],
      "metadata": {
        "colab": {
          "base_uri": "https://localhost:8080/"
        },
        "id": "9X_cmhJg9fy5",
        "outputId": "5b3890d4-ae17-4495-e226-933a8c3d61e0"
      },
      "execution_count": null,
      "outputs": [
        {
          "output_type": "stream",
          "name": "stdout",
          "text": [
            "120\n"
          ]
        }
      ]
    },
    {
      "cell_type": "markdown",
      "source": [
        "9. Implement a function that calculates the sum of all even numbers in a given range.\n"
      ],
      "metadata": {
        "id": "1m8kZ_fE-1Mw"
      }
    },
    {
      "cell_type": "code",
      "source": [
        "def sum_of_even_nums():\n",
        "  sum_even = 0\n",
        "  x =  range(1,5)\n",
        "  for i in x:\n",
        "    if (i % 2) == 0:\n",
        "      sum_even +=  i\n",
        "  return sum_even\n",
        "sum_of_even_nums()"
      ],
      "metadata": {
        "colab": {
          "base_uri": "https://localhost:8080/"
        },
        "id": "dSUTdJVe-_g1",
        "outputId": "41f55a78-62b7-446b-ccf1-39bee2131fe7"
      },
      "execution_count": null,
      "outputs": [
        {
          "output_type": "execute_result",
          "data": {
            "text/plain": [
              "6"
            ]
          },
          "metadata": {},
          "execution_count": 14
        }
      ]
    },
    {
      "cell_type": "markdown",
      "source": [
        "#Part 4:"
      ],
      "metadata": {
        "id": "-xqDv3i_HBTr"
      }
    },
    {
      "cell_type": "markdown",
      "source": [
        "\n",
        "1. Write a function that takes a list of integers and returns the sum of all numbers in the list using a while loop.\n"
      ],
      "metadata": {
        "id": "vCNFqHTZHFut"
      }
    },
    {
      "cell_type": "code",
      "source": [
        "def list_of_ints(list):\n",
        "  indx = 0\n",
        "  total = 0\n",
        "  while indx < len(list):\n",
        "    total += list[indx]\n",
        "    indx += 1\n",
        "  return total\n",
        "list_of_ints([1,2,3])"
      ],
      "metadata": {
        "id": "OQ6UKMJ7Cp6o",
        "colab": {
          "base_uri": "https://localhost:8080/"
        },
        "outputId": "f1c19a2c-1baa-49fa-af0c-c91d24b17bd1"
      },
      "execution_count": null,
      "outputs": [
        {
          "output_type": "execute_result",
          "data": {
            "text/plain": [
              "6"
            ]
          },
          "metadata": {},
          "execution_count": 7
        }
      ]
    },
    {
      "cell_type": "markdown",
      "source": [
        "2. Implement a function that takes a list of strings and returns the number of strings that contain the letter 'a' using a while loop.\n"
      ],
      "metadata": {
        "id": "UtftyF8yOPuM"
      }
    },
    {
      "cell_type": "code",
      "source": [
        "def list_of_strings(string):\n",
        "  count =  0\n",
        "  i = 0\n",
        "  while i < len(string):\n",
        "    if 'a' in string[i]:\n",
        "      count += 1\n",
        "    i += 1\n",
        "  return count\n",
        "list_of_strings([\"Strawberry\",\"Cherry\",\"Orange\"])"
      ],
      "metadata": {
        "colab": {
          "base_uri": "https://localhost:8080/"
        },
        "id": "cTnLFbBqOVCa",
        "outputId": "b795d181-263c-45ad-9421-5457f65e255e"
      },
      "execution_count": null,
      "outputs": [
        {
          "output_type": "execute_result",
          "data": {
            "text/plain": [
              "2"
            ]
          },
          "metadata": {},
          "execution_count": 1
        }
      ]
    },
    {
      "cell_type": "markdown",
      "source": [
        "3. Create a function that takes a list of integers and returns the largest number in the list using a while loop.\n"
      ],
      "metadata": {
        "id": "Ga1Ep_fElSDl"
      }
    },
    {
      "cell_type": "code",
      "source": [
        "def largest_number(nums_list):\n",
        "  largest_num = nums_list[0]\n",
        "  i = 0\n",
        "  while i < len(nums_list):\n",
        "    if nums_list[i] > largest_num:\n",
        "      largest_num = nums_list[i]\n",
        "    i += 1\n",
        "  return largest_num\n",
        "largest_number([1,2,3,5,9])\n"
      ],
      "metadata": {
        "id": "EzckewySlVYR",
        "colab": {
          "base_uri": "https://localhost:8080/"
        },
        "outputId": "7d09a679-b929-41a3-d9ec-5b76455be67c"
      },
      "execution_count": null,
      "outputs": [
        {
          "output_type": "execute_result",
          "data": {
            "text/plain": [
              "9"
            ]
          },
          "metadata": {},
          "execution_count": 4
        }
      ]
    },
    {
      "cell_type": "markdown",
      "source": [
        "4. Write a function that takes a list of integers and returns the number of even numbers in the list using a while loop.\n"
      ],
      "metadata": {
        "id": "sOwwrY5Y1tjG"
      }
    },
    {
      "cell_type": "code",
      "source": [
        "def find_even_number(even_list):\n",
        "  count = 0\n",
        "  i = 0\n",
        "  while i < len(even_list):\n",
        "    if even_list[i] %2 == 0:\n",
        "      count += 1\n",
        "    i += 1\n",
        "  return count\n",
        "find_even_number([1,2,3,5,9,4])"
      ],
      "metadata": {
        "colab": {
          "base_uri": "https://localhost:8080/"
        },
        "id": "aci9-C0t2RLd",
        "outputId": "b1b1526e-6400-40e3-ef27-6f62c04cf58b"
      },
      "execution_count": null,
      "outputs": [
        {
          "output_type": "execute_result",
          "data": {
            "text/plain": [
              "2"
            ]
          },
          "metadata": {},
          "execution_count": 24
        }
      ]
    },
    {
      "cell_type": "markdown",
      "source": [
        "5. Implement a function that takes a list of integers and returns a new list with all numbers multiplied by 3 using a while loop.\n"
      ],
      "metadata": {
        "id": "VErngiiL5_Y5"
      }
    },
    {
      "cell_type": "code",
      "source": [
        "def list_of_integers(numbers):\n",
        "  new_list = []\n",
        "  i = 0\n",
        "  while i < len(numbers):\n",
        "    new_list.append(numbers[i] * 3)\n",
        "    i += 1\n",
        "  return new_list\n",
        "list_of_integers([2,3,4])"
      ],
      "metadata": {
        "colab": {
          "base_uri": "https://localhost:8080/"
        },
        "id": "Pcq-JI356ErC",
        "outputId": "e15f30ee-0eb5-4b64-996f-6f5d704e81e3"
      },
      "execution_count": null,
      "outputs": [
        {
          "output_type": "execute_result",
          "data": {
            "text/plain": [
              "[6, 9, 12]"
            ]
          },
          "metadata": {},
          "execution_count": 27
        }
      ]
    },
    {
      "cell_type": "markdown",
      "source": [
        "10. Write a program that validates user input (e.g., user must enter a positive integer) using a while loop."
      ],
      "metadata": {
        "id": "0KZr2do-A_ry"
      }
    },
    {
      "cell_type": "code",
      "source": [
        "user_input =  int(input(\"Enter a number:\"))\n",
        "while user_input:\n",
        "  if user_input > 0:\n",
        "     print(\"Valid Input\")\n",
        "     break\n",
        "  print(\"Invalid Input\")"
      ],
      "metadata": {
        "colab": {
          "base_uri": "https://localhost:8080/"
        },
        "id": "PInS4Cn7CX9J",
        "outputId": "547ead2f-6f31-4321-ef26-0afabdf7cc5f"
      },
      "execution_count": null,
      "outputs": [
        {
          "output_type": "stream",
          "name": "stdout",
          "text": [
            "Enter a number:8\n",
            "Valid Input\n"
          ]
        }
      ]
    },
    {
      "cell_type": "markdown",
      "source": [
        "11. Create a function that implements a simple calculator with a while loop for continuous operations.\n"
      ],
      "metadata": {
        "id": "lDmAU-aDKgZG"
      }
    },
    {
      "cell_type": "code",
      "source": [
        "def calculator():\n",
        "  while True:\n",
        "    print(\"1.Addition\")\n",
        "    print(\"2.Subtraction\")\n",
        "    print(\"3.Multiplication\")\n",
        "    print(\"4.Division\")\n",
        "    print(\"5.Exit\")\n",
        "\n",
        "    choice = int(input(\"Enter your choice:\"))\n",
        "    if choice == 5:\n",
        "      print(\"Exiting Loop\")\n",
        "      break\n",
        "    num1 =  int(input(\"Enter first number: \"))\n",
        "    operation = input(\"Enter an operation to be performed: '+', '-', '*', '/' \")\n",
        "    num2 =  int(input(\"Enter second number: \"))\n",
        "\n",
        "    if operation == '+':\n",
        "      print(num1 + num2)\n",
        "    elif operation == '-':\n",
        "      print(num1 - num2)\n",
        "    elif operation == '*':\n",
        "      print(num1 * num2)\n",
        "    elif operation == '/':\n",
        "      print(num1 / num2)\n",
        "    return\n",
        "\n",
        "calculator()"
      ],
      "metadata": {
        "colab": {
          "base_uri": "https://localhost:8080/"
        },
        "id": "RwvTh5zDKjmm",
        "outputId": "133f995b-2b00-4c96-8ecc-07d50d6ce1a9"
      },
      "execution_count": null,
      "outputs": [
        {
          "output_type": "stream",
          "name": "stdout",
          "text": [
            "1.Addition\n",
            "2.Subtraction\n",
            "3.Multiplication\n",
            "4.Division\n",
            "5.Exit\n",
            "Enter your choice:2\n",
            "Enter first number: 4\n",
            "Enter an operation to be performed: '+', '-', '*', '/' -\n",
            "Enter second number: 2\n",
            "2\n"
          ]
        }
      ]
    }
  ]
}