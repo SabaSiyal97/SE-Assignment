{
  "nbformat": 4,
  "nbformat_minor": 0,
  "metadata": {
    "colab": {
      "provenance": [],
      "authorship_tag": "ABX9TyPAe4o300b2oBMA6YieZE+N",
      "include_colab_link": true
    },
    "kernelspec": {
      "name": "python3",
      "display_name": "Python 3"
    },
    "language_info": {
      "name": "python"
    }
  },
  "cells": [
    {
      "cell_type": "markdown",
      "metadata": {
        "id": "view-in-github",
        "colab_type": "text"
      },
      "source": [
        "<a href=\"https://colab.research.google.com/github/SabaSiyal97/SE-Assignment/blob/master/Saba's5th.ipynb\" target=\"_parent\"><img src=\"https://colab.research.google.com/assets/colab-badge.svg\" alt=\"Open In Colab\"/></a>"
      ]
    },
    {
      "cell_type": "markdown",
      "source": [
        "# Assignment # 5: Higher Order Functions & Error Handling\n"
      ],
      "metadata": {
        "id": "WPcxfuQbpEwU"
      }
    },
    {
      "cell_type": "markdown",
      "source": [
        "# Basic Concepts (Questions 1-10):\n"
      ],
      "metadata": {
        "id": "O5-UNwX2prZ9"
      }
    },
    {
      "cell_type": "markdown",
      "source": [
        "1. Write a Python program that uses `enumerate()` to print out the index and value of each character in the string \"Python is awesome!\"."
      ],
      "metadata": {
        "id": "XNI3Vyn8p4aP"
      }
    },
    {
      "cell_type": "code",
      "execution_count": null,
      "metadata": {
        "colab": {
          "base_uri": "https://localhost:8080/"
        },
        "id": "6R21rfJYWK_B",
        "outputId": "e1d68310-644c-49fe-e1b6-f4e8c48f5214"
      },
      "outputs": [
        {
          "output_type": "stream",
          "name": "stdout",
          "text": [
            "1: P\n",
            "2: y\n",
            "3: t\n",
            "4: h\n",
            "5: o\n",
            "6: n\n",
            "7:  \n",
            "8: i\n",
            "9: s\n",
            "10:  \n",
            "11: a\n",
            "12: w\n",
            "13: e\n",
            "14: s\n",
            "15: o\n",
            "16: m\n",
            "17: e\n",
            "18: !\n"
          ]
        }
      ],
      "source": [
        "string = \"Python is awesome!\"\n",
        "for index, char in enumerate(string, start = 1):\n",
        "  print(f\"{index}: {char}\")"
      ]
    },
    {
      "cell_type": "markdown",
      "source": [
        "2. Create two lists: `names = ['Alice', 'Bob', 'Charlie']` and `ages = [25, 30, 35]`. Use `zip()` to create a list of tuples where each tuple contains a name and an age.\n",
        "\n"
      ],
      "metadata": {
        "id": "_1nVp6bKu5me"
      }
    },
    {
      "cell_type": "code",
      "source": [
        "names = ['Alice', 'Bob', 'Charlie']\n",
        "ages = [25, 30, 35]\n",
        "for names, ages in zip(names, ages):\n",
        "  print(f\"{names}: {ages}\")"
      ],
      "metadata": {
        "colab": {
          "base_uri": "https://localhost:8080/"
        },
        "id": "WbR3HKZLvCwf",
        "outputId": "5bb7bf70-975d-42b1-f6fd-e2ca88bd8264"
      },
      "execution_count": null,
      "outputs": [
        {
          "output_type": "stream",
          "name": "stdout",
          "text": [
            "Alice: 25\n",
            "Bob: 30\n",
            "Charlie: 35\n"
          ]
        }
      ]
    },
    {
      "cell_type": "markdown",
      "source": [
        "3. Write a lambda function that takes a number and returns its cube. Use this lambda function with `map()` to cube all numbers in the list `[1, 2, 3, 4, 5]`.\n"
      ],
      "metadata": {
        "id": "Ne04A0H104MY"
      }
    },
    {
      "cell_type": "code",
      "source": [
        "cube = lambda x:x**3\n",
        "list(map(cube,[1,2,3,4]))"
      ],
      "metadata": {
        "colab": {
          "base_uri": "https://localhost:8080/"
        },
        "id": "GLf3GVRY08yB",
        "outputId": "df54ccc5-6833-457c-8d6d-466047cd5ca0"
      },
      "execution_count": null,
      "outputs": [
        {
          "output_type": "execute_result",
          "data": {
            "text/plain": [
              "[1, 8, 27, 64]"
            ]
          },
          "metadata": {},
          "execution_count": 3
        }
      ]
    },
    {
      "cell_type": "markdown",
      "source": [
        "4. Create a list of temperatures in Celsius: `celsius = [0, 10, 20, 30, 40]`. Use `map()` and a lambda function to convert these temperatures to Fahrenheit (formula: F = C * 9/5 + 32).\n"
      ],
      "metadata": {
        "id": "OUvzpaDrATKv"
      }
    },
    {
      "cell_type": "code",
      "source": [
        "celsius = [0, 10, 20, 30, 40]\n",
        "temp = lambda x: x * 9/5 + 32\n",
        "fahrenheit = list(map(temp, celsius))\n",
        "print(fahrenheit)"
      ],
      "metadata": {
        "colab": {
          "base_uri": "https://localhost:8080/"
        },
        "id": "cAZtjjaJAVdN",
        "outputId": "fd70019a-815d-4549-a72d-5df3d9ac95ce"
      },
      "execution_count": null,
      "outputs": [
        {
          "output_type": "stream",
          "name": "stdout",
          "text": [
            "[32.0, 50.0, 68.0, 86.0, 104.0]\n"
          ]
        }
      ]
    },
    {
      "cell_type": "markdown",
      "source": [
        "5. Write a program that uses `filter()` and a lambda function to keep only the words longer than 3 characters from the list `['The', 'quick', 'brown', 'fox', 'jumps', 'over', 'the', 'lazy', 'dog']`."
      ],
      "metadata": {
        "id": "i83be47Oc1IY"
      }
    },
    {
      "cell_type": "code",
      "source": [
        "abc = ['The', 'quick', 'brown', 'fox', 'jumps', 'over', 'the', 'lazy', 'dog']\n",
        "lam = lambda x: len(x)>3\n",
        "list1 = list(filter(lam,abc))\n",
        "print(list1)"
      ],
      "metadata": {
        "colab": {
          "base_uri": "https://localhost:8080/"
        },
        "id": "RPxiSctDdF4b",
        "outputId": "f2dc06a5-563e-42d6-9b36-ec90073e58fb"
      },
      "execution_count": null,
      "outputs": [
        {
          "output_type": "stream",
          "name": "stdout",
          "text": [
            "['quick', 'brown', 'jumps', 'over', 'lazy']\n"
          ]
        }
      ]
    },
    {
      "cell_type": "markdown",
      "source": [
        "\n",
        "6. Create a global variable `count` set to 0. Write a function that increments this global variable. Call the function multiple times and print the final value of `count`.\n"
      ],
      "metadata": {
        "id": "ZL3_pvuZdK4X"
      }
    },
    {
      "cell_type": "code",
      "source": [
        "count = 0\n",
        "\n",
        "def increment():\n",
        "    global count\n",
        "    count += 1\n",
        "    print(count)\n",
        "\n",
        "increment()\n",
        "increment()"
      ],
      "metadata": {
        "colab": {
          "base_uri": "https://localhost:8080/"
        },
        "id": "oq3K1wkfdNli",
        "outputId": "131448b7-9ef0-4737-e7ad-f97fce81bb51"
      },
      "execution_count": null,
      "outputs": [
        {
          "output_type": "stream",
          "name": "stdout",
          "text": [
            "1\n",
            "2\n"
          ]
        }
      ]
    },
    {
      "cell_type": "markdown",
      "source": [
        "7. Write a program that prompts the user to enter two numbers and performs division. Use a `try-except` block to handle the `ZeroDivisionError` that occurs if the second number is zero.\n"
      ],
      "metadata": {
        "id": "maV60OwMdWgp"
      }
    },
    {
      "cell_type": "code",
      "source": [
        "try:\n",
        "  number1 = int(input(\"Enter first number: \"))\n",
        "  number2 = int(input(\"Enter second number: \"))\n",
        "  result = number1 / number2\n",
        "  print(result)\n",
        "except ValueError:\n",
        "  print(\"That's not a valid input!\")\n",
        "except ZeroDivisionError:\n",
        "  print(\"You cannot divide by zero!\")"
      ],
      "metadata": {
        "colab": {
          "base_uri": "https://localhost:8080/"
        },
        "id": "PkA7dePndaKq",
        "outputId": "ba171643-97b4-4b8d-9433-f0ccadeac241"
      },
      "execution_count": null,
      "outputs": [
        {
          "output_type": "stream",
          "name": "stdout",
          "text": [
            "Enter first number: 2\n",
            "Enter second number: 0\n",
            "You cannot divide by zero!\n"
          ]
        }
      ]
    },
    {
      "cell_type": "markdown",
      "source": [
        "8. Create a list of dictionaries representing books:\n",
        "   ```python\n",
        "   books = [\n",
        "       {\"title\": \"To Kill a Mockingbird\", \"author\": \"Harper Lee\", \"year\": 1960},\n",
        "       {\"title\": \"1984\", \"author\": \"George Orwell\", \"year\": 1949},\n",
        "       {\"title\": \"Pride and Prejudice\", \"author\": \"Jane Austen\", \"year\": 1813}\n",
        "   ]\n",
        "   ```\n",
        "   Use `lambda` and `sorted()` to sort this list by the year of publication.\n"
      ],
      "metadata": {
        "id": "Hb84Qgd0nbOp"
      }
    },
    {
      "cell_type": "code",
      "source": [
        "books = [\n",
        "    {\"title\": \"To Kill a Mockingbird\", \"author\": \"Harper Lee\", \"year\": 1960},\n",
        "    {\"title\": \"1984\", \"author\": \"George Orwell\", \"year\": 1949},\n",
        "    {\"title\": \"Pride and Prejudice\", \"author\": \"Jane Austen\", \"year\": 1813}\n",
        "]\n",
        "print(sorted(books, key=lambda x: x['year']))"
      ],
      "metadata": {
        "colab": {
          "base_uri": "https://localhost:8080/"
        },
        "id": "F9SoyjXzngE4",
        "outputId": "7760f775-ec44-49af-f73d-c60418c3eb17"
      },
      "execution_count": null,
      "outputs": [
        {
          "output_type": "stream",
          "name": "stdout",
          "text": [
            "[{'title': 'Pride and Prejudice', 'author': 'Jane Austen', 'year': 1813}, {'title': '1984', 'author': 'George Orwell', 'year': 1949}, {'title': 'To Kill a Mockingbird', 'author': 'Harper Lee', 'year': 1960}]\n"
          ]
        }
      ]
    },
    {
      "cell_type": "markdown",
      "source": [
        "\n",
        "9. Write a higher-order function called `apply_twice` that takes a function and a value as arguments. It should apply the given function twice to the value and return the result. Test it with a simple function that adds 3 to a number.\n"
      ],
      "metadata": {
        "id": "0Jjh-8TG_ZUb"
      }
    },
    {
      "cell_type": "code",
      "source": [
        "def function1(argument_1, argument_2):\n",
        "    return argument_1(argument_1(argument_2))\n",
        "\n",
        "def add_three(arg):\n",
        "    return arg + 3\n",
        "print(function1(add_three, 5))\n"
      ],
      "metadata": {
        "colab": {
          "base_uri": "https://localhost:8080/"
        },
        "id": "8kcQvIMj_djE",
        "outputId": "6f5e0611-8bf3-4aaa-881c-1188467cd8e0"
      },
      "execution_count": null,
      "outputs": [
        {
          "output_type": "stream",
          "name": "stdout",
          "text": [
            "11\n"
          ]
        }
      ]
    },
    {
      "cell_type": "markdown",
      "source": [
        "10. Create a list of numbers. Use list comprehension with `enumerate()` to create a new list that contains tuples of (index, value) only for the even numbers in the original list.\n"
      ],
      "metadata": {
        "id": "yjT1x3lcJ9F4"
      }
    },
    {
      "cell_type": "code",
      "source": [
        "list_of_nums = [1,2,3,4,5]\n",
        "tuples_of_even = [(index,value) for index,value in enumerate(list_of_nums) if value % 2 == 0]\n",
        "print(tuples_of_even)"
      ],
      "metadata": {
        "colab": {
          "base_uri": "https://localhost:8080/"
        },
        "id": "fEuKImb2KBHn",
        "outputId": "37961284-7b56-48f9-80f2-c97b5996e449"
      },
      "execution_count": null,
      "outputs": [
        {
          "output_type": "stream",
          "name": "stdout",
          "text": [
            "[(1, 2), (3, 4)]\n"
          ]
        }
      ]
    },
    {
      "cell_type": "markdown",
      "source": [
        "# Intermediate Concepts (Questions 11-20)\n"
      ],
      "metadata": {
        "id": "UC6RTQ8UOmre"
      }
    },
    {
      "cell_type": "markdown",
      "source": [
        "11. Write a program that uses `zip()` to iterate over two lists simultaneously: `questions = ['name', 'quest', 'favorite color']` and `answers = ['Lancelot', 'the holy grail', 'blue']`. Print each question with its corresponding answer."
      ],
      "metadata": {
        "id": "TUKjpi6WOuEo"
      }
    },
    {
      "cell_type": "code",
      "source": [
        "questions = ['name', 'quest', 'favorite color']\n",
        "answers = ['Lancelot', 'the holy grail', 'blue']\n",
        "\n",
        "result = zip(questions , answers)\n",
        "print(list(result))"
      ],
      "metadata": {
        "id": "6aI8qV4lOx4-",
        "colab": {
          "base_uri": "https://localhost:8080/"
        },
        "outputId": "2f824750-abb8-4fcd-c30c-5cf830b0fffe"
      },
      "execution_count": null,
      "outputs": [
        {
          "output_type": "stream",
          "name": "stdout",
          "text": [
            "[('name', 'Lancelot'), ('quest', 'the holy grail'), ('favorite color', 'blue')]\n"
          ]
        }
      ]
    },
    {
      "cell_type": "markdown",
      "source": [
        "\n",
        "12. Create a list of temperatures: `temps = [32, 68, 95, 104, 212]`. Use `map()` and a lambda function to convert these temperatures from Fahrenheit to Celsius (formula: C = (F - 32) * 5/9). Round the results to two decimal places.\n"
      ],
      "metadata": {
        "id": "SlQvGQoLLTH6"
      }
    },
    {
      "cell_type": "code",
      "source": [
        "temps = [32, 68, 95, 104, 212]\n",
        "fahrenheit_to_celsius = lambda x: (x - 32) * 5/9\n",
        "conversion = list(map(fahrenheit_to_celsius, temps))\n",
        "rounded_conversion = list(map(lambda x: round(x, 2), conversion))\n",
        "print(rounded_conversion)"
      ],
      "metadata": {
        "colab": {
          "base_uri": "https://localhost:8080/"
        },
        "id": "5FfF_GwfLYFJ",
        "outputId": "fb04302f-323c-495d-ad41-1962f86c3ceb"
      },
      "execution_count": null,
      "outputs": [
        {
          "output_type": "stream",
          "name": "stdout",
          "text": [
            "[0.0, 20.0, 35.0, 40.0, 100.0]\n"
          ]
        }
      ]
    },
    {
      "cell_type": "markdown",
      "source": [
        "13. Write a function that takes a list of strings and returns a new list with the strings sorted by length. Use this function with `sorted()` and a lambda function to sort the list `['python', 'is', 'a', 'powerful', 'language']`.\n"
      ],
      "metadata": {
        "id": "l4EIqPaeSn2b"
      }
    },
    {
      "cell_type": "code",
      "source": [
        "unsorted_list = ['python', 'is', 'a', 'powerful', 'language']\n",
        "sorted_list = sorted(unsorted_list, key=len)\n",
        "print(sorted_list)"
      ],
      "metadata": {
        "colab": {
          "base_uri": "https://localhost:8080/"
        },
        "id": "DLrcb7wESxxD",
        "outputId": "930ddd33-9021-4925-d03d-52b9c89cf76d"
      },
      "execution_count": null,
      "outputs": [
        {
          "output_type": "stream",
          "name": "stdout",
          "text": [
            "['a', 'is', 'python', 'powerful', 'language']\n"
          ]
        }
      ]
    },
    {
      "cell_type": "markdown",
      "source": [
        "14. Create a list of dictionaries representing products:\n",
        "    ```python\n",
        "    products = [\n",
        "        {\"name\": \"Laptop\", \"price\": 1000, \"stock\": 5},\n",
        "        {\"name\": \"Phone\", \"price\": 500, \"stock\": 10},\n",
        "        {\"name\": \"Tablet\", \"price\": 300, \"stock\": 8}\n",
        "    ]\n",
        "    ```\n",
        "    Use `filter()` and a lambda function to create a new list of products that are in stock (stock > 0) and cost less than $600.\n"
      ],
      "metadata": {
        "id": "Pj8B2ryQTnTx"
      }
    },
    {
      "cell_type": "code",
      "source": [
        "products = [\n",
        "    {\"name\": \"Laptop\", \"price\": 1000, \"stock\": 5},\n",
        "    {\"name\": \"Phone\", \"price\": 500, \"stock\": 10},\n",
        "    {\"name\": \"Tablet\", \"price\": 300, \"stock\": 8}\n",
        "]\n",
        "\n",
        "instock_products = list(filter(lambda x:x['stock']>0 and x['price']<600 , products))\n",
        "print(instock_products)"
      ],
      "metadata": {
        "colab": {
          "base_uri": "https://localhost:8080/"
        },
        "id": "Ctwk2GgDTtMR",
        "outputId": "bda1a8b6-0856-405f-a49b-4a02eee4991b"
      },
      "execution_count": null,
      "outputs": [
        {
          "output_type": "stream",
          "name": "stdout",
          "text": [
            "[{'name': 'Phone', 'price': 500, 'stock': 10}, {'name': 'Tablet', 'price': 300, 'stock': 8}]\n"
          ]
        }
      ]
    },
    {
      "cell_type": "markdown",
      "source": [
        "15. Write a program that prompts the user to enter a sentence. Use `map()` and a lambda function to create a list of the lengths of each word in the sentence.\n"
      ],
      "metadata": {
        "id": "UKyrFpglVfPU"
      }
    },
    {
      "cell_type": "code",
      "source": [
        "sentence = input(\"Enter a sentence: \")\n",
        "length_list = list(map(lambda x: len(x),sentence.split()))\n",
        "print(length_list)"
      ],
      "metadata": {
        "id": "F2-aAwdjVjRz",
        "colab": {
          "base_uri": "https://localhost:8080/"
        },
        "outputId": "192632eb-7623-4eb8-e3e2-91b27e98e650"
      },
      "execution_count": null,
      "outputs": [
        {
          "output_type": "stream",
          "name": "stdout",
          "text": [
            "Enter a sentence: saba is a good girl\n",
            "[4, 2, 1, 4, 4]\n"
          ]
        }
      ]
    },
    {
      "cell_type": "markdown",
      "source": [
        "\n",
        "16. Create a function called `safe_divide` that takes two parameters and returns their division. Use a try-except block inside the function to handle potential `ZeroDivisionError` and `TypeError` exceptions. Test the function with various inputs.\n"
      ],
      "metadata": {
        "id": "Khrg468BBiis"
      }
    },
    {
      "cell_type": "code",
      "source": [
        "def safe_divide(num1,num2):\n",
        "  try:\n",
        "    division_result = num1 / num2\n",
        "  except ZeroDivisionError:\n",
        "    return \"You can't divide by 0.\"\n",
        "  except TypeError:\n",
        "    return \"Invalid input!\"\n",
        "  return division_result\n",
        "print(safe_divide(5,0))\n",
        "print(safe_divide(2,'3'))\n",
        "print(safe_divide(2,4))"
      ],
      "metadata": {
        "colab": {
          "base_uri": "https://localhost:8080/"
        },
        "id": "hl4K5ScwBoFl",
        "outputId": "2945f5de-adba-44ff-d8d5-238f2fafc0f0"
      },
      "execution_count": null,
      "outputs": [
        {
          "output_type": "stream",
          "name": "stdout",
          "text": [
            "You can't divide by 0.\n",
            "Invalid input!\n",
            "0.5\n"
          ]
        }
      ]
    },
    {
      "cell_type": "markdown",
      "source": [
        "17. Write a higher-order function called `operate` that takes an operator function and two numbers as arguments. It should apply the operator function to the numbers and return the result. Test it with lambda functions for addition, subtraction, multiplication, and division.\n"
      ],
      "metadata": {
        "id": "1kk65Px-ivaG"
      }
    },
    {
      "cell_type": "code",
      "source": [
        "def operate(func, num1,num2):\n",
        "  return func(num1,num2)\n",
        "add = lambda x,y: x+y\n",
        "print(operate(add, 4,7))\n",
        "subtract = lambda x,y: x-y\n",
        "print(operate(subtract, 12,7))\n",
        "multiply = lambda x,y: x*y\n",
        "print(operate(multiply, 4,2))\n",
        "divide = lambda x,y: x/y\n",
        "print(operate(divide, 4,3))"
      ],
      "metadata": {
        "colab": {
          "base_uri": "https://localhost:8080/"
        },
        "id": "J6pioZIni1DY",
        "outputId": "47891cf8-67a4-4f14-9a5d-ac4cc12e2d88"
      },
      "execution_count": null,
      "outputs": [
        {
          "output_type": "stream",
          "name": "stdout",
          "text": [
            "11\n",
            "5\n",
            "8\n",
            "1.3333333333333333\n"
          ]
        }
      ]
    },
    {
      "cell_type": "markdown",
      "source": [
        "18. Create a list of numbers. Use `enumerate()`, `filter()`, and a lambda function to create a new list of tuples (index, value) only for the numbers at even indices in the original list.\n"
      ],
      "metadata": {
        "id": "IcN9hlotjdgE"
      }
    },
    {
      "cell_type": "code",
      "source": [
        "list_of_numbers = [20,13,67,76,23,89,97,34]\n",
        "even_index_list = list(filter(lambda x: x[0] %2 == 0, enumerate(list_of_numbers)))\n",
        "print(even_index_list)"
      ],
      "metadata": {
        "colab": {
          "base_uri": "https://localhost:8080/"
        },
        "id": "gh0H7dxXjiW8",
        "outputId": "e9b1bced-5372-4d0b-bfa5-d260ccc59254"
      },
      "execution_count": null,
      "outputs": [
        {
          "output_type": "stream",
          "name": "stdout",
          "text": [
            "[(0, 20), (2, 67), (4, 23), (6, 97)]\n"
          ]
        }
      ]
    },
    {
      "cell_type": "markdown",
      "source": [
        "19. Write a program that uses `zip()` and list comprehension to find the element-wise maximum of two lists of numbers.\n"
      ],
      "metadata": {
        "id": "iP_bPV3L056w"
      }
    },
    {
      "cell_type": "code",
      "source": [
        "list1 = [1,23,35,4]\n",
        "list2 = [51,61,7,89]\n",
        "max_list = [max(a,b) for a,b in zip(list1,list2)]\n",
        "print(max_list)"
      ],
      "metadata": {
        "id": "VMAtwCtg0_aS",
        "colab": {
          "base_uri": "https://localhost:8080/"
        },
        "outputId": "68f2b2da-031b-4090-aaa8-b2f7c10815ae"
      },
      "execution_count": null,
      "outputs": [
        {
          "output_type": "stream",
          "name": "stdout",
          "text": [
            "[51, 61, 35, 89]\n"
          ]
        }
      ]
    },
    {
      "cell_type": "markdown",
      "source": [
        "20. Create a function that takes a string as input and uses `filter()` and a lambda function to remove all vowels from the string. The function should return the modified string."
      ],
      "metadata": {
        "id": "XboMSDs9SPE_"
      }
    },
    {
      "cell_type": "code",
      "source": [
        "def remove_vowels(string):\n",
        "  vowels = \"aeiouAEIOU\"\n",
        "  modified_list= filter(lambda char: char not in vowels, string)\n",
        "  return ''.join(modified_list)\n",
        "remove_vowels(\"Hello how are you\")"
      ],
      "metadata": {
        "colab": {
          "base_uri": "https://localhost:8080/",
          "height": 36
        },
        "id": "oEQyJTa-STzl",
        "outputId": "fa6a0ddc-6b62-45cf-d6ac-8451136dd405"
      },
      "execution_count": null,
      "outputs": [
        {
          "output_type": "execute_result",
          "data": {
            "text/plain": [
              "'Hll hw r y'"
            ],
            "application/vnd.google.colaboratory.intrinsic+json": {
              "type": "string"
            }
          },
          "metadata": {},
          "execution_count": 8
        }
      ]
    },
    {
      "cell_type": "markdown",
      "source": [
        "# Advanced Concepts (Questions 21-25)\n"
      ],
      "metadata": {
        "id": "lcJtHJv-YQu8"
      }
    },
    {
      "cell_type": "markdown",
      "source": [
        "\n",
        "21. Write a function that takes a nested list of numbers and uses a combination of `map()`, `lambda`, and list comprehension to flatten the list and calculate the sum of all numbers.\n"
      ],
      "metadata": {
        "id": "7cu_UNmeYk0s"
      }
    },
    {
      "cell_type": "code",
      "source": [
        "def nested(nested_list):\n",
        "  nested_list = [[1,2,3],[4,5,6],[7,8,9]]\n",
        "  flattened_list = list(map(lambda sublist: sublist, nested_list))\n",
        "  flattened_list = sum(flattened_list, [])\n",
        "  total = sum(flattened_list)\n",
        "  return total\n",
        "nested(nested_list= [[1,2,3],[4,5,6],[7,8,9]])"
      ],
      "metadata": {
        "colab": {
          "base_uri": "https://localhost:8080/"
        },
        "id": "B2Pp4OtFaV3R",
        "outputId": "443bffea-aac4-45cd-c6d1-e4d0272b543d"
      },
      "execution_count": null,
      "outputs": [
        {
          "output_type": "execute_result",
          "data": {
            "text/plain": [
              "45"
            ]
          },
          "metadata": {},
          "execution_count": 30
        }
      ]
    },
    {
      "cell_type": "markdown",
      "source": [
        "22. Create a list of tuples representing x and y coordinates: `points = [(1, 2), (3, 1), (2, 4), (4, 3)]`. Use `lambda` and `sorted()` to sort this list based on the distance of each point from the origin (0, 0). (Hint: distance = sqrt(x^2 + y^2))\n"
      ],
      "metadata": {
        "id": "2Ejc-onD33fH"
      }
    },
    {
      "cell_type": "code",
      "source": [
        "points = [(1, 2), (3, 1), (2, 4), (4, 3)]\n",
        "distance = lambda x: (x[0]**2+x[1]**2)**0.5\n",
        "sorted(points,key=distance)\n",
        "print(points)"
      ],
      "metadata": {
        "colab": {
          "base_uri": "https://localhost:8080/"
        },
        "id": "_1onGS8y39Ax",
        "outputId": "82259a39-17da-41c6-960e-d4b9f078d99d"
      },
      "execution_count": null,
      "outputs": [
        {
          "output_type": "stream",
          "name": "stdout",
          "text": [
            "[(1, 2), (3, 1), (2, 4), (4, 3)]\n"
          ]
        }
      ]
    },
    {
      "cell_type": "markdown",
      "source": [
        "23. Write a function that takes a list of strings and uses `map()` with a lambda function to create a new list where each string is replaced by a tuple containing the string and its reverse.\n"
      ],
      "metadata": {
        "id": "6zfr_hqoQylF"
      }
    },
    {
      "cell_type": "code",
      "source": [
        "def reverse_string(string):\n",
        "  new_list = list(map(lambda x: x[::-1],string))\n",
        "  return new_list\n",
        "reverse_string(['saba'])"
      ],
      "metadata": {
        "colab": {
          "base_uri": "https://localhost:8080/"
        },
        "id": "0bYPXYqWRsO2",
        "outputId": "f4f20974-c8d4-4881-dcbf-afc3753fe3bc"
      },
      "execution_count": null,
      "outputs": [
        {
          "output_type": "execute_result",
          "data": {
            "text/plain": [
              "['abas']"
            ]
          },
          "metadata": {},
          "execution_count": 41
        }
      ]
    },
    {
      "cell_type": "markdown",
      "source": [
        "24. Create a higher-order function called `compose` that takes two single-parameter functions as arguments and returns a new function that applies these functions in sequence. Test it with simple functions like doubling a number and adding 5."
      ],
      "metadata": {
        "id": "EOTjWRFLUxX9"
      }
    },
    {
      "cell_type": "code",
      "source": [
        "def compose(func1,func2):\n",
        "  return lambda x: func1(func2(x))\n",
        "def doubling_number(x):\n",
        "  return x * 3\n",
        "def adding_five(x):\n",
        "  return x + 5\n",
        "result_of_composed = compose(doubling_number,adding_five)\n",
        "result_of_composed(3)"
      ],
      "metadata": {
        "colab": {
          "base_uri": "https://localhost:8080/"
        },
        "id": "XvaEQYVsU5ZD",
        "outputId": "2d365daa-c65e-4a39-b285-9ff826126cb0"
      },
      "execution_count": null,
      "outputs": [
        {
          "output_type": "execute_result",
          "data": {
            "text/plain": [
              "24"
            ]
          },
          "metadata": {},
          "execution_count": 3
        }
      ]
    },
    {
      "cell_type": "markdown",
      "source": [
        "25. Write a program that uses `filter()` and `map()` together to process a list of numbers: first filter out all numbers that are not divisible by 3, then square the remaining numbers.\n"
      ],
      "metadata": {
        "id": "cAmj7OLYhMo4"
      }
    },
    {
      "cell_type": "code",
      "source": [
        "number_list = [1,2,3,4,5,6,7,8]\n",
        "filter_list = list(filter(lambda x: x%3==0,number_list))\n",
        "remaining_numbers = list(map(lambda x: x**2,filter_list))\n",
        "remaining_numbers"
      ],
      "metadata": {
        "colab": {
          "base_uri": "https://localhost:8080/"
        },
        "id": "wVNqVixchSb_",
        "outputId": "bb8b33f4-6a5c-4d52-bef0-10a816374478"
      },
      "execution_count": null,
      "outputs": [
        {
          "output_type": "execute_result",
          "data": {
            "text/plain": [
              "[9, 36]"
            ]
          },
          "metadata": {},
          "execution_count": 4
        }
      ]
    }
  ]
}