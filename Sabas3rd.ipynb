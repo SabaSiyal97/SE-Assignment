{
  "nbformat": 4,
  "nbformat_minor": 0,
  "metadata": {
    "colab": {
      "provenance": [],
      "authorship_tag": "ABX9TyN/3eCQI3F+aHYZpcC+LBMt",
      "include_colab_link": true
    },
    "kernelspec": {
      "name": "python3",
      "display_name": "Python 3"
    },
    "language_info": {
      "name": "python"
    }
  },
  "cells": [
    {
      "cell_type": "markdown",
      "metadata": {
        "id": "view-in-github",
        "colab_type": "text"
      },
      "source": [
        "<a href=\"https://colab.research.google.com/github/SabaSiyal97/SE-Assignment/blob/master/Sabas3rd.ipynb\" target=\"_parent\"><img src=\"https://colab.research.google.com/assets/colab-badge.svg\" alt=\"Open In Colab\"/></a>"
      ]
    },
    {
      "cell_type": "markdown",
      "source": [
        "21. Create a program that takes a boolean value as input and prints its string representation."
      ],
      "metadata": {
        "id": "e7eU_fwLYLsK"
      }
    },
    {
      "cell_type": "code",
      "execution_count": null,
      "metadata": {
        "colab": {
          "base_uri": "https://localhost:8080/"
        },
        "id": "PVBAlEyRKQMm",
        "outputId": "066fcdb3-a65c-45e5-ec20-e0010a75d624"
      },
      "outputs": [
        {
          "output_type": "stream",
          "name": "stdout",
          "text": [
            "Enter a boolean value (True/False): False \n",
            "False \n",
            "<class 'str'>\n"
          ]
        }
      ],
      "source": [
        "bool_input = input(\"Enter a boolean value (True/False): \")\n",
        "print(str(bool_input))\n",
        "print(type(bool_input))"
      ]
    },
    {
      "cell_type": "markdown",
      "source": [
        "22. Write a function that takes a person's name as an argument and returns a greeting message."
      ],
      "metadata": {
        "id": "cCUWHdYPYWiN"
      }
    },
    {
      "cell_type": "code",
      "source": [
        "name = input(\"Enter your name: \")\n",
        "greetings = (\"Hello \" + name)\n",
        "\n",
        "print(greetings)"
      ],
      "metadata": {
        "colab": {
          "base_uri": "https://localhost:8080/"
        },
        "id": "6U5fGqKLP3zr",
        "outputId": "2d05ec26-7844-4ba5-a06d-30cf376398d7"
      },
      "execution_count": null,
      "outputs": [
        {
          "output_type": "stream",
          "name": "stdout",
          "text": [
            "Enter your name: Saba\n",
            "Hello Saba\n"
          ]
        }
      ]
    },
    {
      "cell_type": "markdown",
      "source": [
        "23. Create a function that takes an integer as input and prints whether it is even or odd."
      ],
      "metadata": {
        "id": "050-PWpiYd2Y"
      }
    },
    {
      "cell_type": "code",
      "source": [
        "num = int(input(\"Enter a number to check whether it's even or odd: \"))\n",
        "\n",
        "if num % 2 == 0:\n",
        "        print(f\"{num} is Even\")\n",
        "else:\n",
        "        print(f\"{num} is Odd\")"
      ],
      "metadata": {
        "colab": {
          "base_uri": "https://localhost:8080/"
        },
        "id": "oildFk5RRYNA",
        "outputId": "3d5ed431-5aed-4240-e715-26ac3990bbca"
      },
      "execution_count": null,
      "outputs": [
        {
          "output_type": "stream",
          "name": "stdout",
          "text": [
            "Enter a number to check whether it's even or odd: 11\n",
            "11 is Odd\n"
          ]
        }
      ]
    },
    {
      "cell_type": "markdown",
      "source": [
        "24. Write a program that takes a number as input and prints whether it is within the range of 1 to 100 (inclusive).\n"
      ],
      "metadata": {
        "id": "8b3B4ghDYlZe"
      }
    },
    {
      "cell_type": "code",
      "source": [
        "num = int(input(\"Enter any number: \"))\n",
        "\n",
        "if 1 <= num <= 100:\n",
        " print(f\"{num} is within the range.\")\n",
        "else:\n",
        "  print(f\"{num} is not in range.\")"
      ],
      "metadata": {
        "id": "MD7ZI5L0SWSU",
        "colab": {
          "base_uri": "https://localhost:8080/"
        },
        "collapsed": true,
        "outputId": "2eeb9f65-83fd-4e54-ba5c-279c46dea3d7"
      },
      "execution_count": null,
      "outputs": [
        {
          "output_type": "stream",
          "name": "stdout",
          "text": [
            "Enter any number: 6666\n",
            "6666 is not in range.\n"
          ]
        }
      ]
    },
    {
      "cell_type": "markdown",
      "source": [
        "25. Create a function that calculates the volume of a cube given its side length.\n"
      ],
      "metadata": {
        "id": "T5K2cHSWYrXQ"
      }
    },
    {
      "cell_type": "code",
      "source": [
        "def cube_volume(length,width,height):\n",
        " volume = length*width*height\n",
        " print(f\"Volume of cube is: {volume}\")\n",
        "cube_volume(5,2,7)"
      ],
      "metadata": {
        "id": "Whwz7X9NEvBq",
        "colab": {
          "base_uri": "https://localhost:8080/"
        },
        "outputId": "bd53c064-adc1-45d2-ce33-adc9f13ad2e5"
      },
      "execution_count": null,
      "outputs": [
        {
          "output_type": "stream",
          "name": "stdout",
          "text": [
            "Volume of cube is: 70\n"
          ]
        }
      ]
    },
    {
      "cell_type": "markdown",
      "source": [
        "26. Create a function that calculates the average of three integers.\n"
      ],
      "metadata": {
        "id": "k5bCfspkYysy"
      }
    },
    {
      "cell_type": "code",
      "source": [
        "a=int(input(\"Enter first number: \"))\n",
        "b=int(input(\"Enter first number: \"))\n",
        "c=int(input(\"Enter first number: \"))\n",
        "\n",
        "average = (a+b+c)/3\n",
        "print(average)"
      ],
      "metadata": {
        "colab": {
          "base_uri": "https://localhost:8080/"
        },
        "id": "QtU76DmoGGIR",
        "outputId": "550a812e-fe9c-4b84-d08d-c19e9bd92116"
      },
      "execution_count": null,
      "outputs": [
        {
          "output_type": "stream",
          "name": "stdout",
          "text": [
            "Enter first number: 22\n",
            "Enter first number: 4\n",
            "Enter first number: 9\n",
            "11.666666666666666\n"
          ]
        }
      ]
    },
    {
      "cell_type": "markdown",
      "source": [
        "27. Create a function that converts a decimal number to its binary representation."
      ],
      "metadata": {
        "id": "4JDOCHi-Y25L"
      }
    },
    {
      "cell_type": "code",
      "source": [
        "def decimal_to_binary(decimal):\n",
        " conversion = bin(decimal)\n",
        " return conversion\n",
        "decimal_to_binary(12)"
      ],
      "metadata": {
        "id": "oNYj_gixHt7Z",
        "colab": {
          "base_uri": "https://localhost:8080/",
          "height": 36
        },
        "outputId": "ca1768b5-dd6a-4ba8-d9e2-d2aeef366d5f"
      },
      "execution_count": null,
      "outputs": [
        {
          "output_type": "execute_result",
          "data": {
            "text/plain": [
              "'0b1100'"
            ],
            "application/vnd.google.colaboratory.intrinsic+json": {
              "type": "string"
            }
          },
          "metadata": {},
          "execution_count": 50
        }
      ]
    },
    {
      "cell_type": "markdown",
      "source": [
        "28. Write a program that takes three floats as input and prints True if all values are equal, otherwise False.\n",
        "\n"
      ],
      "metadata": {
        "id": "WwmrdCcAY8-2"
      }
    },
    {
      "cell_type": "code",
      "source": [
        "num1 = float(input(\"Enter first float value: \"))\n",
        "num2 = float(input(\"Enter second float value: \"))\n",
        "num3 = float(input(\"Enter third float value: \"))\n",
        "\n",
        "if num1 == num2 == num3:\n",
        "  print(True)\n",
        "else:\n",
        "  print(False)"
      ],
      "metadata": {
        "colab": {
          "base_uri": "https://localhost:8080/"
        },
        "id": "WqWnuOAsJkxo",
        "outputId": "733b2cf5-32e0-4156-b4d1-09510fa26374"
      },
      "execution_count": null,
      "outputs": [
        {
          "output_type": "stream",
          "name": "stdout",
          "text": [
            "Enter first float value: 12\n",
            "Enter second float value: 44\n",
            "Enter third float value: 1\n",
            "False\n"
          ]
        }
      ]
    },
    {
      "cell_type": "markdown",
      "source": [
        "29. Write a program that takes two integers as input and prints True if their sum is greater than 100, otherwise False."
      ],
      "metadata": {
        "id": "pDjSl5HLZBh-"
      }
    },
    {
      "cell_type": "code",
      "source": [
        "num1 = int(input(\"Enter first value: \"))\n",
        "num2 = int(input(\"Enter second value: \"))\n",
        "\n",
        "if num1 + num2 > 100:\n",
        "  print(True)\n",
        "else:\n",
        "  print(False)"
      ],
      "metadata": {
        "colab": {
          "base_uri": "https://localhost:8080/"
        },
        "id": "P4VogeDqLT9N",
        "outputId": "c6db17b7-f167-4047-ea22-c00438570370"
      },
      "execution_count": null,
      "outputs": [
        {
          "output_type": "stream",
          "name": "stdout",
          "text": [
            "Enter first value: 1\n",
            "Enter second value: 1\n",
            "False\n"
          ]
        }
      ]
    },
    {
      "cell_type": "markdown",
      "source": [
        "30. Write a function that takes a string and an integer as arguments and returns a new string with the integer inserted at the beginning.\n"
      ],
      "metadata": {
        "id": "uY_Mm8DNZH2X"
      }
    },
    {
      "cell_type": "code",
      "source": [
        "def number_string(number,string):\n",
        " new_str = str(number)+ \" \" + string\n",
        " return new_str\n",
        "number_string(13,\"Saba\")"
      ],
      "metadata": {
        "id": "0BMb71H1MKGZ",
        "colab": {
          "base_uri": "https://localhost:8080/",
          "height": 36
        },
        "outputId": "724b6c3d-f1ab-479a-ed31-1409531de23c"
      },
      "execution_count": null,
      "outputs": [
        {
          "output_type": "execute_result",
          "data": {
            "text/plain": [
              "'13 Saba'"
            ],
            "application/vnd.google.colaboratory.intrinsic+json": {
              "type": "string"
            }
          },
          "metadata": {},
          "execution_count": 27
        }
      ]
    },
    {
      "cell_type": "markdown",
      "source": [
        "31. Write a program that takes an integer as input and prints whether it is positive, negative, or zero.\n"
      ],
      "metadata": {
        "id": "PTSEBsIpZOdj"
      }
    },
    {
      "cell_type": "code",
      "source": [
        "n = int(input(\"Enter number: \"))\n",
        "\n",
        "if n > 0:\n",
        "        print(\"The number is positive.\")\n",
        "elif n < 0:\n",
        "        print(\"The number is negative.\")\n",
        "else:\n",
        "        print(\"The number is zero.\")"
      ],
      "metadata": {
        "colab": {
          "base_uri": "https://localhost:8080/"
        },
        "id": "21aw9KlwUBwK",
        "outputId": "a32258cc-0080-46d1-a260-acf2b6d7f6be"
      },
      "execution_count": null,
      "outputs": [
        {
          "output_type": "stream",
          "name": "stdout",
          "text": [
            "Enter number: 3\n",
            "The number is positive.\n"
          ]
        }
      ]
    },
    {
      "cell_type": "markdown",
      "source": [
        "32. Create a function that takes three numbers and returns the largest among them.\n"
      ],
      "metadata": {
        "id": "sbs2L1ynZS5j"
      }
    },
    {
      "cell_type": "code",
      "source": [
        "def find_largest(num1, num2, num3):\n",
        "    return max(num1, num2, num3)\n",
        "\n",
        "num1 = int(input(\"Enter the first number: \"))\n",
        "num2 = int(input(\"Enter the second number: \"))\n",
        "num3 = int(input(\"Enter the third number: \"))\n",
        "\n",
        "largest = find_largest(num1, num2, num3)\n",
        "print(f\"The largest number is: {largest}\")"
      ],
      "metadata": {
        "colab": {
          "base_uri": "https://localhost:8080/"
        },
        "id": "ZfBemywnUdVN",
        "outputId": "f3c132ac-bb13-4478-fc7a-e435e1c5206f"
      },
      "execution_count": null,
      "outputs": [
        {
          "output_type": "stream",
          "name": "stdout",
          "text": [
            "Enter the first number: 22\n",
            "Enter the second number: 66\n",
            "Enter the third number: 99\n",
            "The largest number is: 99\n"
          ]
        }
      ]
    },
    {
      "cell_type": "markdown",
      "source": [
        "33. Create a function that takes a string representing a day of the week (e.g., \"Monday\") and prints whether it is a weekday or a weekend.\n"
      ],
      "metadata": {
        "id": "FVH72wCRZYLr"
      }
    },
    {
      "cell_type": "code",
      "source": [
        "def find_week(day):\n",
        "    if day == \"Saturday\" or \"Sunday\":\n",
        "        return \"Weekend\"\n",
        "    else:\n",
        "        return \"Weekday\"\n",
        "\n",
        "day = str(input(\"Enter the day: \"))\n",
        "result = find_week(day)\n",
        "print(result)"
      ],
      "metadata": {
        "colab": {
          "base_uri": "https://localhost:8080/"
        },
        "id": "geIa4xt9cohC",
        "outputId": "f9b077d7-34cf-414d-8e3a-159ff5ce8ae9"
      },
      "execution_count": null,
      "outputs": [
        {
          "output_type": "stream",
          "name": "stdout",
          "text": [
            "Enter the day: Saturday\n",
            "Weekend\n"
          ]
        }
      ]
    },
    {
      "cell_type": "markdown",
      "source": [
        "34. Write a program that converts temperature from Celsius to Fahrenheit. Ask the user for the temperature in Celsius and print the result in Fahrenheit. (Formula: F = C * 9/5 + 32)"
      ],
      "metadata": {
        "id": "w1txwto_Zet1"
      }
    },
    {
      "cell_type": "code",
      "source": [
        "def celsius_to_fahrenheit(celsius):\n",
        "    fahrenheit = celsius * 9/5 + 32\n",
        "    return fahrenheit\n",
        "\n",
        "celsius = float(input(\"Enter temperature in Celsius: \"))\n",
        "fahrenheit = celsius_to_fahrenheit(celsius)\n",
        "print(f\"The temperature in Fahrenheit is: {fahrenheit:.2f}°F\")"
      ],
      "metadata": {
        "colab": {
          "base_uri": "https://localhost:8080/"
        },
        "id": "YBuU-Hv1h_sz",
        "outputId": "ebfbaa63-e673-4b4e-8ee4-c25b10174af1"
      },
      "execution_count": null,
      "outputs": [
        {
          "output_type": "stream",
          "name": "stdout",
          "text": [
            "Enter temperature in Celsius: 44\n",
            "The temperature in Fahrenheit is: 111.20°F\n"
          ]
        }
      ]
    },
    {
      "cell_type": "markdown",
      "source": [
        "35. Write a program that takes a temperature in Celsius as input and prints whether it is cold (below 10°C), warm (10°C to 25°C), or hot (above 25°C)."
      ],
      "metadata": {
        "id": "uAKelylzZlGr"
      }
    },
    {
      "cell_type": "code",
      "source": [
        "def category_of_temp(celsius):\n",
        "    if celsius < 10:\n",
        "        return \"cold\"\n",
        "    elif 10 <= celsius <= 25:\n",
        "        return \"warm\"\n",
        "    else:\n",
        "        return \"hot\"\n",
        "\n",
        "temperature = int(input(\"Enter the temperature in Celsius: \"))\n",
        "category = category_of_temp(temperature)\n",
        "print(f\"The temperature is {category}.\")"
      ],
      "metadata": {
        "colab": {
          "base_uri": "https://localhost:8080/"
        },
        "id": "1rm2TZUVixRc",
        "outputId": "2081d2f6-9574-4f26-8336-8ece242719b6"
      },
      "execution_count": null,
      "outputs": [
        {
          "output_type": "stream",
          "name": "stdout",
          "text": [
            "Enter the temperature in Celsius: 12\n",
            "The temperature is warm.\n"
          ]
        }
      ]
    },
    {
      "cell_type": "markdown",
      "source": [
        "36. Write a function that takes a string and a boolean as arguments and returns the string repeated twice (‘stringstring’) if the boolean is True, otherwise returns an empty string."
      ],
      "metadata": {
        "id": "aAlrK2EbZtAA"
      }
    },
    {
      "cell_type": "code",
      "source": [
        "def function(Saba,shorty):\n",
        "  if shorty:\n",
        "    return shorty + shorty\n",
        "  else:\n",
        "    return \" \"\n",
        "input_string = input(\"Enter a string: \")\n",
        "input_boolean = input(\"Enter True or False: \")\n",
        "result = function(input_string, input_string)\n",
        "print(f\"Result: '{result}'\")"
      ],
      "metadata": {
        "colab": {
          "base_uri": "https://localhost:8080/"
        },
        "id": "50ZGAHtW-3CR",
        "outputId": "af40dd8c-ab04-4b8a-8c40-134d3669fd93"
      },
      "execution_count": null,
      "outputs": [
        {
          "output_type": "stream",
          "name": "stdout",
          "text": [
            "Enter a string: saba\n",
            "Enter True or False: True\n",
            "Result: 'sabasaba'\n"
          ]
        }
      ]
    },
    {
      "cell_type": "markdown",
      "source": [
        "37. Write a program that asks for the user's age and prints whether they are a child (0-12), teenager (13-19), adult (20-59), or senior (60+).\n",
        "\n"
      ],
      "metadata": {
        "id": "EvEDJN6mZxzT"
      }
    },
    {
      "cell_type": "code",
      "source": [
        "age = int(input(\"Enter your age: \"))\n",
        "\n",
        "if age >= 0 and age <=12:\n",
        " print(\"Child\")\n",
        "elif age >= 13 and age <=19:\n",
        "  print(\"Teenager.\")\n",
        "elif age >= 20 and age <=59:\n",
        "  print(\"Adults.\")\n",
        "else:\n",
        "  print( \"Seniors.\")"
      ],
      "metadata": {
        "colab": {
          "base_uri": "https://localhost:8080/"
        },
        "id": "Q6y3k2iiBrL9",
        "outputId": "e7b22449-66e3-438f-d705-f3c5f8e589d8"
      },
      "execution_count": null,
      "outputs": [
        {
          "output_type": "stream",
          "name": "stdout",
          "text": [
            "Enter your age: 22\n",
            "Adults.\n"
          ]
        }
      ]
    },
    {
      "cell_type": "markdown",
      "source": [
        "38. Create a function that converts a numerical grade to a letter grade according to the following scale:\n",
        "    - 90-100: A\n",
        "    - 80-89: B\n",
        "    - 70-79: C\n",
        "    - 60-69: D\n",
        "    - Below 60: F\n",
        "   The function should return \"Invalid\" if the input is not between 0 and 100.\n"
      ],
      "metadata": {
        "id": "9RPDiUNvJ6p2"
      }
    },
    {
      "cell_type": "code",
      "source": [
        "grade = int(input(\"Enter marks: \"))\n",
        "\n",
        "if 90 <= grade <= 100:\n",
        "    print(\"A\")\n",
        "elif 80 <= grade <= 89:\n",
        "    print(\"B\")\n",
        "elif 70 <= grade <= 79:\n",
        "    print(\"C\")\n",
        "elif 60 <= grade <= 69:\n",
        "    print(\"D\")\n",
        "elif 0 <= grade < 60:\n",
        "    print(\"F\")\n",
        "else:\n",
        "    print(\"Invalid\")"
      ],
      "metadata": {
        "colab": {
          "base_uri": "https://localhost:8080/"
        },
        "id": "4tuQscT2JSUY",
        "outputId": "58464c72-cf20-409d-8762-3a31631c04ca"
      },
      "execution_count": null,
      "outputs": [
        {
          "output_type": "stream",
          "name": "stdout",
          "text": [
            "Enter marks: 44\n",
            "F\n"
          ]
        }
      ]
    },
    {
      "cell_type": "markdown",
      "source": [
        "39. Write a program that determines if a year is a leap year. (A leap year is divisible by 4, except for century years, which must be divisible by 400).\n"
      ],
      "metadata": {
        "id": "C8OBR5UiQ-Gj"
      }
    },
    {
      "cell_type": "code",
      "source": [
        "year = int(input(\"Enter the year: \"))\n",
        "\n",
        "if year % 100 == 0 and year % 400 == 0:\n",
        "  print(f\"{year} is a Leap year.\")\n",
        "elif year % 4 == 0 and year % 100 != 0:\n",
        "  print(f\"{year} is a Leap year.\")\n",
        "else:\n",
        "  print(f\"{year} is a Not a Leap year.\")"
      ],
      "metadata": {
        "colab": {
          "base_uri": "https://localhost:8080/"
        },
        "id": "cSMWna3XRDaQ",
        "outputId": "43f49dae-b6fc-4350-feb2-7371b8921973"
      },
      "execution_count": null,
      "outputs": [
        {
          "output_type": "stream",
          "name": "stdout",
          "text": [
            "Enter the year: 2005\n",
            "2005 is a Not a Leap year.\n"
          ]
        }
      ]
    },
    {
      "cell_type": "markdown",
      "source": [
        "40. Create a simple calculator program that asks for two numbers and an operation (+, -, *, /), then prints the result. Use if-elif-else statements."
      ],
      "metadata": {
        "id": "yIdGABdcTXyt"
      }
    },
    {
      "cell_type": "code",
      "source": [
        "num1 = int(input(\"Enter first number: \"))\n",
        "operation = input(\"Enter an operation (+, -, *, /): \")\n",
        "num2 = int(input(\"Enter second number: \"))\n",
        "\n",
        "if operation == \"+\":\n",
        "  print(num1+num2)\n",
        "elif operation == \"-\":\n",
        "  print(num1-num2)\n",
        "elif operation == \"*\":\n",
        "  print(num1*num2)\n",
        "elif operation == \"/\":\n",
        "  print(num1/num2)\n",
        "else:\n",
        "  print(\"Invalid Operator.\")"
      ],
      "metadata": {
        "colab": {
          "base_uri": "https://localhost:8080/"
        },
        "id": "v2Wdx-nwTcZ4",
        "outputId": "3ac594be-6b46-445b-90c0-296c9c6d8872"
      },
      "execution_count": null,
      "outputs": [
        {
          "output_type": "stream",
          "name": "stdout",
          "text": [
            "Enter first number: 6\n",
            "Enter an operation (+, -, *, /): *\n",
            "Enter second number: 2\n",
            "12\n"
          ]
        }
      ]
    }
  ]
}