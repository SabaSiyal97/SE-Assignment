{
  "nbformat": 4,
  "nbformat_minor": 0,
  "metadata": {
    "colab": {
      "provenance": [],
      "collapsed_sections": [
        "Ct1u_TXXeLu1",
        "ehNZrUqjqUQF"
      ],
      "authorship_tag": "ABX9TyPOrxMrDW7YPyTgjR1zmndb",
      "include_colab_link": true
    },
    "kernelspec": {
      "name": "python3",
      "display_name": "Python 3"
    },
    "language_info": {
      "name": "python"
    }
  },
  "cells": [
    {
      "cell_type": "markdown",
      "metadata": {
        "id": "view-in-github",
        "colab_type": "text"
      },
      "source": [
        "<a href=\"https://colab.research.google.com/github/SabaSiyal97/SE-Assignment/blob/master/Saba's4th.ipynb\" target=\"_parent\"><img src=\"https://colab.research.google.com/assets/colab-badge.svg\" alt=\"Open In Colab\"/></a>"
      ]
    },
    {
      "cell_type": "markdown",
      "source": [
        "#Assignment 4: Dictionaries and Comprehensions"
      ],
      "metadata": {
        "id": "VgslmioVd2D1"
      }
    },
    {
      "cell_type": "markdown",
      "source": [
        "#Part 1: Easy Questions"
      ],
      "metadata": {
        "id": "Ct1u_TXXeLu1"
      }
    },
    {
      "cell_type": "markdown",
      "source": [
        "\n",
        "1. Create a Dictionary\n",
        "   Create a dictionary named `student` that contains the following keys and values: `name` (your name), `age` (your age), and `major` (your major).\n"
      ],
      "metadata": {
        "id": "UIBa3apUejTc"
      }
    },
    {
      "cell_type": "code",
      "source": [
        "student = {\n",
        "    \"name\":\"Saba\",\n",
        "    \"age\":22,\n",
        "    \"major\":\"BSCS\" }\n",
        "print(student)"
      ],
      "metadata": {
        "colab": {
          "base_uri": "https://localhost:8080/"
        },
        "id": "UjjErME1x6jr",
        "outputId": "50d84aa2-606b-4010-e34d-c9bcad4ff9d6"
      },
      "execution_count": null,
      "outputs": [
        {
          "output_type": "stream",
          "name": "stdout",
          "text": [
            "{'name': 'Saba', 'age': 22, 'major': 'BSCS'}\n"
          ]
        }
      ]
    },
    {
      "cell_type": "markdown",
      "source": [
        "2. Access Dictionary Values  \n",
        "   Using the dictionary from Question 1, print the student's name and age.\n"
      ],
      "metadata": {
        "id": "1bSu3IrDzUTQ"
      }
    },
    {
      "cell_type": "code",
      "source": [
        "name = student.get(\"name\")\n",
        "age = student.get(\"age\")\n",
        "print(f\"Hello, My name is {name} and My age is {age}.\")"
      ],
      "metadata": {
        "colab": {
          "base_uri": "https://localhost:8080/"
        },
        "id": "ou3MToPizbaF",
        "outputId": "66228581-1410-4a94-b841-d549722b75c1"
      },
      "execution_count": null,
      "outputs": [
        {
          "output_type": "stream",
          "name": "stdout",
          "text": [
            "Hello, My name is Saba and My age is 22.\n"
          ]
        }
      ]
    },
    {
      "cell_type": "markdown",
      "source": [
        "3. Add a Key-Value Pair  \n",
        "   Add a new key-value pair to the `student` dictionary for `graduation_year` (e.g., 2025).\n"
      ],
      "metadata": {
        "id": "17WIdKXI-eFd"
      }
    },
    {
      "cell_type": "code",
      "source": [
        "student[\"graduation_year\"] = 2025\n",
        "print(student)"
      ],
      "metadata": {
        "colab": {
          "base_uri": "https://localhost:8080/"
        },
        "id": "0BtMPX8p-hbs",
        "outputId": "eba75b4f-637d-423c-ee58-55d8803d5a26"
      },
      "execution_count": null,
      "outputs": [
        {
          "output_type": "stream",
          "name": "stdout",
          "text": [
            "{'name': 'Saba', 'age': 22, 'major': 'BSCS', 'graduation_year': 2025}\n"
          ]
        }
      ]
    },
    {
      "cell_type": "markdown",
      "source": [
        "4. Remove a Key\n",
        "   Remove the `age` key from the `student` dictionary and print the updated dictionary.\n"
      ],
      "metadata": {
        "id": "bIjUufEUCK4x"
      }
    },
    {
      "cell_type": "code",
      "source": [
        "student.pop(\"age\")\n",
        "print(student)"
      ],
      "metadata": {
        "colab": {
          "base_uri": "https://localhost:8080/"
        },
        "id": "ltt94QVOCQip",
        "outputId": "19e4bc4f-10dd-49fc-ffa2-108e6c2dde31"
      },
      "execution_count": null,
      "outputs": [
        {
          "output_type": "stream",
          "name": "stdout",
          "text": [
            "{'name': 'Saba', 'major': 'BSCS', 'graduation_year': 2025}\n"
          ]
        }
      ]
    },
    {
      "cell_type": "markdown",
      "source": [
        "5. Check for Key Existence\n",
        "   Write a function that checks if the key `major` exists in the `student` dictionary and returns `True` or `False`.\n"
      ],
      "metadata": {
        "id": "H0pRI_d8DMZx"
      }
    },
    {
      "cell_type": "code",
      "source": [
        "def key_check(student):\n",
        "  if \"major\" in student.keys():\n",
        "    return True\n",
        "  else:\n",
        "    return False\n",
        "key_check(student)"
      ],
      "metadata": {
        "colab": {
          "base_uri": "https://localhost:8080/"
        },
        "id": "YtdAtXOwDPru",
        "outputId": "531bb8b0-8709-4389-f085-41d491f07528"
      },
      "execution_count": null,
      "outputs": [
        {
          "output_type": "execute_result",
          "data": {
            "text/plain": [
              "True"
            ]
          },
          "metadata": {},
          "execution_count": 8
        }
      ]
    },
    {
      "cell_type": "markdown",
      "source": [
        "6. Create a List of Squares  \n",
        "   Use a list comprehension to create a list of the squares of the numbers from 1 to 10.\n",
        "\n"
      ],
      "metadata": {
        "id": "4aKbvJyxMBiI"
      }
    },
    {
      "cell_type": "code",
      "source": [
        "numbers = [1,2,3,4,5,6,7,8,9,10]\n",
        "squares = [x**2 for x in numbers]\n",
        "print(squares)"
      ],
      "metadata": {
        "colab": {
          "base_uri": "https://localhost:8080/"
        },
        "id": "2HJ8O9gSMG0U",
        "outputId": "af17e30a-b3d8-46e2-f645-9624ece92b29"
      },
      "execution_count": null,
      "outputs": [
        {
          "output_type": "stream",
          "name": "stdout",
          "text": [
            "[1, 4, 9, 16, 25, 36, 49, 64, 81, 100]\n"
          ]
        }
      ]
    },
    {
      "cell_type": "markdown",
      "source": [
        "7. Filter Even Numbers  \n",
        "   Using a list comprehension, create a list of even numbers from a given list: `numbers = [1, 2, 3, 4, 5, 6, 7, 8, 9, 10]`.\n"
      ],
      "metadata": {
        "id": "EUe_-WnPNym0"
      }
    },
    {
      "cell_type": "code",
      "source": [
        "even_numbers = [y for y in range(1,11) if y %2 == 0]\n",
        "print(even_numbers)"
      ],
      "metadata": {
        "colab": {
          "base_uri": "https://localhost:8080/"
        },
        "id": "26gp--ZfN7JM",
        "outputId": "29068a64-40af-4791-9b54-bec7223c1153"
      },
      "execution_count": null,
      "outputs": [
        {
          "output_type": "stream",
          "name": "stdout",
          "text": [
            "[2, 4, 6, 8, 10]\n"
          ]
        }
      ]
    },
    {
      "cell_type": "markdown",
      "source": [
        "8. Create a Dictionary from Two Lists  \n",
        "   Given two lists, `keys = ['a', 'b', 'c']` and `values = [1, 2, 3]`, create a dictionary using a dictionary comprehension.\n"
      ],
      "metadata": {
        "id": "GT_tZEq6P-Ni"
      }
    },
    {
      "cell_type": "code",
      "source": [
        "given_two_lists = {\"keys\": ['a','b','c'], \"values\": [1,2,3]}\n",
        "print(given_two_lists)"
      ],
      "metadata": {
        "colab": {
          "base_uri": "https://localhost:8080/"
        },
        "id": "zoMIYptyQHIA",
        "outputId": "f5deae82-389b-4812-c2bd-6fafb192c1cc"
      },
      "execution_count": null,
      "outputs": [
        {
          "output_type": "stream",
          "name": "stdout",
          "text": [
            "{'keys': ['a', 'b', 'c'], 'values': [1, 2, 3]}\n"
          ]
        }
      ]
    },
    {
      "cell_type": "markdown",
      "source": [
        "9. Count Character Frequency  \n",
        "   Write a function that takes a string and returns a dictionary with the frequency of each character in the string.\n"
      ],
      "metadata": {
        "id": "ICNcCfPDv16T"
      }
    },
    {
      "cell_type": "code",
      "source": [
        "def dict_function(string):\n",
        "  new_dict = {}\n",
        "  for i in string:\n",
        "    if i in new_dict:\n",
        "      new_dict[i] += 1\n",
        "    else:\n",
        "      new_dict[i] = 1\n",
        "  return new_dict\n",
        "dict_function(\"SabaS\")\n"
      ],
      "metadata": {
        "colab": {
          "base_uri": "https://localhost:8080/"
        },
        "id": "z7TA4xjhv7eZ",
        "outputId": "be6beef9-8641-4b78-de29-c5d540e19534"
      },
      "execution_count": null,
      "outputs": [
        {
          "output_type": "execute_result",
          "data": {
            "text/plain": [
              "{'S': 2, 'a': 2, 'b': 1}"
            ]
          },
          "metadata": {},
          "execution_count": 6
        }
      ]
    },
    {
      "cell_type": "markdown",
      "source": [
        "10. Nested Dictionary Access  \n",
        "    Given the following nested dictionary:\n",
        "    ```python\n",
        "    data = {'student1': {'name': 'Alice', 'age': 20}, 'student2': {'name': 'Bob', 'age': 22}}\n",
        "    ```\n",
        "    Access and print the name of `student2`.\n"
      ],
      "metadata": {
        "id": "RqGJ1sx1cf0e"
      }
    },
    {
      "cell_type": "code",
      "source": [
        "data = {'student1': {'name': 'Alice', 'age': 20}, 'student2': {'name': 'Bob', 'age': 22}}\n",
        "print(data['student2']['name'])"
      ],
      "metadata": {
        "colab": {
          "base_uri": "https://localhost:8080/"
        },
        "id": "ORYTxrlxpxpZ",
        "outputId": "a35322b8-38b9-4a0d-d1de-cb9a89d80700"
      },
      "execution_count": null,
      "outputs": [
        {
          "output_type": "stream",
          "name": "stdout",
          "text": [
            "Bob\n"
          ]
        }
      ]
    },
    {
      "cell_type": "markdown",
      "source": [
        "#Part 2: Medium Question"
      ],
      "metadata": {
        "id": "ehNZrUqjqUQF"
      }
    },
    {
      "cell_type": "markdown",
      "source": [
        " 11. List Comprehension with Conditions  \n",
        "    Create a list of the first 10 Fibonacci numbers using a list comprehension.\n"
      ],
      "metadata": {
        "id": "4tuXDUD8qfzc"
      }
    },
    {
      "cell_type": "code",
      "source": [
        "n = 10\n",
        "list1 = [0,1]\n",
        "\n",
        "[list1.append(list1[-2]+list1[-1]) for i in range(2,n)]\n",
        "print(list1)"
      ],
      "metadata": {
        "id": "hrLL4QHBr1yA",
        "colab": {
          "base_uri": "https://localhost:8080/"
        },
        "outputId": "47a66d70-f76e-4232-fa1e-b15f8045d5ff"
      },
      "execution_count": null,
      "outputs": [
        {
          "output_type": "stream",
          "name": "stdout",
          "text": [
            "[0, 1, 1, 2, 3, 5, 8, 13, 21, 34]\n"
          ]
        }
      ]
    },
    {
      "cell_type": "markdown",
      "source": [
        "12. Dictionary Comprehension with Conditions  \n",
        "    Create a dictionary that maps numbers from 1 to 10 to their cubes, but only include numbers that are odd.\n"
      ],
      "metadata": {
        "id": "F8Y9tQinvYIC"
      }
    },
    {
      "cell_type": "code",
      "source": [
        "cube_dict = {n: n**3 for n in range(1,11) if n % 2 != 0}\n",
        "print(cube_dict)"
      ],
      "metadata": {
        "id": "VTRlSMgcveC1",
        "colab": {
          "base_uri": "https://localhost:8080/"
        },
        "outputId": "80d9842a-23aa-46b7-dea4-5b7fa1ba88f8"
      },
      "execution_count": null,
      "outputs": [
        {
          "output_type": "stream",
          "name": "stdout",
          "text": [
            "{1: 1, 3: 27, 5: 125, 7: 343, 9: 729}\n"
          ]
        }
      ]
    },
    {
      "cell_type": "markdown",
      "source": [
        "13. Flatten a List of Lists  \n",
        "    Given a list of lists: `nested_list = [[1, 2], [3, 4], [5, 6]]`, use a list comprehension to flatten it into a single list.\n"
      ],
      "metadata": {
        "id": "_wEw4M6QvgAf"
      }
    },
    {
      "cell_type": "code",
      "source": [
        "nested_list = [[1, 2], [3, 4], [5, 6]]\n",
        "flattened_list = [i for sublist in nested_list for i in sublist]\n",
        "print(flattened_list)"
      ],
      "metadata": {
        "id": "yAGncEhfvjYc",
        "colab": {
          "base_uri": "https://localhost:8080/"
        },
        "outputId": "2c0dc5e2-ac7b-4703-ba5d-c4876918445e"
      },
      "execution_count": null,
      "outputs": [
        {
          "output_type": "stream",
          "name": "stdout",
          "text": [
            "[1, 2, 3, 4, 5, 6]\n"
          ]
        }
      ]
    },
    {
      "cell_type": "markdown",
      "source": [
        "14. Extract Keys from a Dictionary  \n",
        "    Write a function that takes a dictionary and returns a list of its keys.\n"
      ],
      "metadata": {
        "id": "xQxQ6wa0vkxF"
      }
    },
    {
      "cell_type": "code",
      "source": [
        "def my_dict(dict):\n",
        "  list_of_keys = []\n",
        "  for key in dict:\n",
        "    list_of_keys =  dict.keys()\n",
        "  return list_of_keys\n",
        "my_dict({\"name\": \"Saba\", \"age\": 22})"
      ],
      "metadata": {
        "colab": {
          "base_uri": "https://localhost:8080/"
        },
        "id": "Xb-VH5h5vs7E",
        "outputId": "63e23db9-ed09-451a-b48c-4d03f6387991"
      },
      "execution_count": null,
      "outputs": [
        {
          "output_type": "execute_result",
          "data": {
            "text/plain": [
              "dict_keys(['name', 'age'])"
            ]
          },
          "metadata": {},
          "execution_count": 13
        }
      ]
    },
    {
      "cell_type": "markdown",
      "source": [
        "15. Combine Dictionaries  \n",
        "    Given two dictionaries, `dict1 = {'a': 1, 'b': 2}` and `dict2 = {'b': 3, 'c': 4}`, create a new dictionary that combines them, summing the values for duplicate keys.\n"
      ],
      "metadata": {
        "id": "hWWL0LfLvtkc"
      }
    },
    {
      "cell_type": "code",
      "source": [
        "dict1 = {'a': 1, 'b': 2}\n",
        "dict2 = {'b': 3, 'c': 4}"
      ],
      "metadata": {
        "id": "4n64niwmvyyc"
      },
      "execution_count": null,
      "outputs": []
    },
    {
      "cell_type": "markdown",
      "source": [
        "16. Create a Dictionary from a String  \n",
        "    Write a function that takes a string and returns a dictionary with each word as a key and its length as the value.\n"
      ],
      "metadata": {
        "id": "UhWFh5aBvzpG"
      }
    },
    {
      "cell_type": "code",
      "source": [
        "def string_dict(string):\n",
        "  new_dict = {}\n",
        "  for char in string:\n",
        "    if char in new_dict:\n",
        "      new_dict[char] += 1\n",
        "    else:\n",
        "      new_dict[char] = 1\n",
        "  return new_dict\n",
        "string_dict(\"saba is a good girl\")"
      ],
      "metadata": {
        "id": "5WF8ctfKv7DM",
        "colab": {
          "base_uri": "https://localhost:8080/"
        },
        "collapsed": true,
        "outputId": "1d25212c-9d2a-4611-8d15-f891f81eb501"
      },
      "execution_count": null,
      "outputs": [
        {
          "output_type": "execute_result",
          "data": {
            "text/plain": [
              "{'s': 2,\n",
              " 'a': 3,\n",
              " 'b': 1,\n",
              " ' ': 4,\n",
              " 'i': 2,\n",
              " 'g': 2,\n",
              " 'o': 2,\n",
              " 'd': 1,\n",
              " 'r': 1,\n",
              " 'l': 1}"
            ]
          },
          "metadata": {},
          "execution_count": 13
        }
      ]
    },
    {
      "cell_type": "markdown",
      "source": [
        "\n",
        "17. List of Tuples to Dictionary  \n",
        "    Given a list of tuples: `pairs = [('a', 1), ('b', 2), ('c', 3)]`, create a dictionary using a dictionary comprehension.\n"
      ],
      "metadata": {
        "id": "4dK9HvW2v7s-"
      }
    },
    {
      "cell_type": "code",
      "source": [
        "pairs = [('a', 1), ('b', 2), ('c', 3)]\n",
        "my_dict = {key: value for key, value in pairs}\n",
        "print(my_dict)\n",
        "print(type(my_dict))"
      ],
      "metadata": {
        "id": "s8LKSnIlwABA",
        "colab": {
          "base_uri": "https://localhost:8080/"
        },
        "outputId": "6111fc7a-8d40-4de5-ce51-ae31e292c43d"
      },
      "execution_count": null,
      "outputs": [
        {
          "output_type": "stream",
          "name": "stdout",
          "text": [
            "{'a': 1, 'b': 2, 'c': 3}\n",
            "<class 'dict'>\n"
          ]
        }
      ]
    },
    {
      "cell_type": "markdown",
      "source": [
        "18. Create a List of Unique Characters  \n",
        "    From the string `text = \"hello world\"`, create a list of unique characters using a set and then convert it to a list.\n"
      ],
      "metadata": {
        "id": "OysO8-ucwAk9"
      }
    },
    {
      "cell_type": "code",
      "source": [
        "text_list = \"hello world\"\n",
        "s = set(text_list)\n",
        "s = list(s)\n",
        "print(s)"
      ],
      "metadata": {
        "id": "PV6fx11dwFox",
        "colab": {
          "base_uri": "https://localhost:8080/"
        },
        "outputId": "f4335ffc-4e94-4216-954c-14fc29418311"
      },
      "execution_count": null,
      "outputs": [
        {
          "output_type": "stream",
          "name": "stdout",
          "text": [
            "['r', 'w', 'd', 'e', 'h', ' ', 'l', 'o']\n"
          ]
        }
      ]
    },
    {
      "cell_type": "markdown",
      "source": [
        "\n",
        "19. Inverting a Dictionary  \n",
        "    Given a dictionary `original = {'a': 10, 'b': 20, 'c': 30}`, create a new dictionary that inverts the keys and values.\n"
      ],
      "metadata": {
        "id": "ZUmkw7XGwG6r"
      }
    },
    {
      "cell_type": "code",
      "source": [
        "original = {'a': 10, 'b': 20, 'c': 30}\n",
        "inverted_dict = {}\n",
        "for key,value in original.items():\n",
        "  inverted_dict[value] = key\n",
        "print(inverted_dict)"
      ],
      "metadata": {
        "id": "CFHROiT-wLU7",
        "colab": {
          "base_uri": "https://localhost:8080/"
        },
        "outputId": "8305c4ce-4782-46d4-be68-ad7f229d434b"
      },
      "execution_count": null,
      "outputs": [
        {
          "output_type": "stream",
          "name": "stdout",
          "text": [
            "{10: 'a', 20: 'b', 30: 'c'}\n"
          ]
        }
      ]
    },
    {
      "cell_type": "markdown",
      "source": [
        "20. Count Vowel Frequency  \n",
        "    Write a function that takes a string and returns a dictionary with the frequency of each vowel (a, e, i, o, u).\n"
      ],
      "metadata": {
        "id": "_Hy5sj7WwNYK"
      }
    },
    {
      "cell_type": "code",
      "source": [
        "def dict_function(string):\n",
        "  new_dict = {}\n",
        "  for i in string:\n",
        "    if i in new_dict:\n",
        "      new_dict[i] += 1\n",
        "    else:\n",
        "      new_dict[i] = 1\n",
        "  return new_dict\n",
        "dict_function('a,e,i,o,u')"
      ],
      "metadata": {
        "colab": {
          "base_uri": "https://localhost:8080/"
        },
        "id": "YAz6tCpTwTaI",
        "outputId": "6dd9ab0b-e1a9-4cd2-fc7e-b022ec31eb41"
      },
      "execution_count": null,
      "outputs": [
        {
          "output_type": "execute_result",
          "data": {
            "text/plain": [
              "{'a': 1, ',': 4, 'e': 1, 'i': 1, 'o': 1, 'u': 1}"
            ]
          },
          "metadata": {},
          "execution_count": 11
        }
      ]
    },
    {
      "cell_type": "markdown",
      "source": [
        "# Part 3: Hard Questions"
      ],
      "metadata": {
        "id": "-IcCBCeU1bUW"
      }
    },
    {
      "cell_type": "markdown",
      "source": [
        "21. Group by Length  \n",
        "    Given a list of words, create a dictionary that groups the words by their length. For example, `['cat', 'dog', 'elephant', 'bat']` should result in `{3: ['cat', 'dog', 'bat'], 8: ['elephant']}`.\n",
        "\n"
      ],
      "metadata": {
        "id": "XS_jqXUZ1jUC"
      }
    },
    {
      "cell_type": "code",
      "source": [
        "animals = ['cat', 'dog', 'elephant', 'bat']\n",
        "length_dict = {}\n",
        "for animal in animals:\n",
        "  key = len(animal)\n",
        "  if key not in length_dict:\n",
        "    length_dict[key] = []\n",
        "  length_dict[key].append(animal)\n",
        "print(length_dict)"
      ],
      "metadata": {
        "colab": {
          "base_uri": "https://localhost:8080/"
        },
        "id": "FZFnq_ho18M2",
        "outputId": "770e392c-5bc4-4292-daa4-c2b946aadc18"
      },
      "execution_count": null,
      "outputs": [
        {
          "output_type": "stream",
          "name": "stdout",
          "text": [
            "{3: ['cat', 'dog', 'bat'], 8: ['elephant']}\n"
          ]
        }
      ]
    },
    {
      "cell_type": "markdown",
      "source": [
        "22. Create a Frequency Dictionary  \n",
        "    Write a function that takes a list of integers and returns a dictionary where the keys are the integers and the values are their frequencies in the list.\n"
      ],
      "metadata": {
        "id": "Dh61Qbby19td"
      }
    },
    {
      "cell_type": "code",
      "source": [
        "def list_of_ints(numbers):\n",
        "  new_dict =  {}\n",
        "  for number in numbers:\n",
        "    if number not in new_dict:\n",
        "       new_dict[number] = numbers.count(number)\n",
        "  return new_dict\n",
        "list_of_ints([1,2,3,3,3,4,4,5])"
      ],
      "metadata": {
        "colab": {
          "base_uri": "https://localhost:8080/"
        },
        "id": "0QtfpwPd2CEF",
        "outputId": "d9ae6a5a-430b-4e99-aecc-476393db455b"
      },
      "execution_count": null,
      "outputs": [
        {
          "output_type": "execute_result",
          "data": {
            "text/plain": [
              "{1: 1, 2: 1, 3: 3, 4: 2, 5: 1}"
            ]
          },
          "metadata": {},
          "execution_count": 8
        }
      ]
    },
    {
      "cell_type": "markdown",
      "source": [
        "23. Nested Dictionary Comprehension  \n",
        "    Create a nested dictionary comprehension that generates a multiplication table for numbers 1 through 5.\n"
      ],
      "metadata": {
        "id": "yqIknCGN2Cp7"
      }
    },
    {
      "cell_type": "code",
      "source": [
        "nested_multiplication_dict = {i:{j: i * j for j in range(1,6)} for i in range(1,6)}\n",
        "for key,value in nested_multiplication_dict.items():\n",
        "  print(key,value)"
      ],
      "metadata": {
        "id": "yLebT6ff2Gu0",
        "colab": {
          "base_uri": "https://localhost:8080/"
        },
        "outputId": "e5719146-73ec-453e-ecc0-722ee5b89bd8"
      },
      "execution_count": null,
      "outputs": [
        {
          "output_type": "stream",
          "name": "stdout",
          "text": [
            "1 {1: 1, 2: 2, 3: 3, 4: 4, 5: 5}\n",
            "2 {1: 2, 2: 4, 3: 6, 4: 8, 5: 10}\n",
            "3 {1: 3, 2: 6, 3: 9, 4: 12, 5: 15}\n",
            "4 {1: 4, 2: 8, 3: 12, 4: 16, 5: 20}\n",
            "5 {1: 5, 2: 10, 3: 15, 4: 20, 5: 25}\n"
          ]
        }
      ]
    },
    {
      "cell_type": "markdown",
      "source": [
        "24. Sort Dictionary by Value  \n",
        "    Given a dictionary `scores = {'Alice': 85, 'Bob': 95, 'Charlie': 80}`, create a new dictionary sorted by scores in descending order.\n"
      ],
      "metadata": {
        "id": "aVbPQXEU2HRF"
      }
    },
    {
      "cell_type": "code",
      "source": [
        "scores = {'Alice': 85, 'Bob': 95, 'Charlie': 80}\n",
        "sorted_dict = dict(zip(sorted(scores, key=scores.get,reverse=True),reversed(sorted(scores.values()))))\n",
        "print(sorted_dict)"
      ],
      "metadata": {
        "id": "D2SjE_rS2KNl",
        "colab": {
          "base_uri": "https://localhost:8080/"
        },
        "outputId": "24241632-d805-4433-bb1a-d77590751a02"
      },
      "execution_count": null,
      "outputs": [
        {
          "output_type": "stream",
          "name": "stdout",
          "text": [
            "{'Bob': 95, 'Alice': 85, 'Charlie': 80}\n"
          ]
        }
      ]
    },
    {
      "cell_type": "markdown",
      "source": [
        "25. Merge and Average Values  \n",
        "    Given two dictionaries with student names as keys and their scores as values, merge them and calculate the average score for each student. For example:\n",
        "    ```\n",
        "    scores1 = {'Alice': 85, 'Bob': 90}\n",
        "    scores2 = {'Alice': 95, 'Bob': 80, 'Charlie': 70}\n",
        "    ```\n",
        "    The result should be `{'Alice': 90.0, 'Bob': 85.0, 'Charlie': 70.0}`.\n"
      ],
      "metadata": {
        "id": "7882hN7G2K6t"
      }
    },
    {
      "cell_type": "code",
      "source": [
        "scores1 = {'Alice': 85, 'Bob': 90}\n",
        "scores2 = {'Alice': 95, 'Bob': 80, 'Charlie': 70}\n",
        "merged_dict = {}\n",
        "\n",
        "for i in scores1:\n",
        "  if i in scores2:\n",
        "    merged_dict[i] = (scores1[i]+scores2[i])/2\n",
        "  else:\n",
        "    merged_dict[i] = scores1[i]\n",
        "for i in scores2:\n",
        "  if i not in merged_dict:\n",
        "    merged_dict[i] = scores2[i]\n",
        "print(merged_dict)"
      ],
      "metadata": {
        "id": "zPX2Tzkt2Sct",
        "colab": {
          "base_uri": "https://localhost:8080/"
        },
        "outputId": "edc4fee9-26d0-4df7-8028-630c5a4fc3fa"
      },
      "execution_count": null,
      "outputs": [
        {
          "output_type": "stream",
          "name": "stdout",
          "text": [
            "{'Alice': 90.0, 'Bob': 85.0, 'Charlie': 70}\n"
          ]
        }
      ]
    }
  ]
}