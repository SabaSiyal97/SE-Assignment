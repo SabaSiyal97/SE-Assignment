{
  "cells": [
    {
      "cell_type": "markdown",
      "metadata": {
        "id": "view-in-github",
        "colab_type": "text"
      },
      "source": [
        "<a href=\"https://colab.research.google.com/github/SabaSiyal97/SE-Assignment/blob/master/Saba's_Assignment_2.ipynb\" target=\"_parent\"><img src=\"https://colab.research.google.com/assets/colab-badge.svg\" alt=\"Open In Colab\"/></a>"
      ]
    },
    {
      "cell_type": "markdown",
      "metadata": {
        "id": "gm7lwUc1Pgq7"
      },
      "source": [
        "# Assignment No: 2"
      ]
    },
    {
      "cell_type": "markdown",
      "source": [
        "Submitted To: Sir Jawad Haider\n",
        "\n",
        "Submitted By: Saba E Yasrab"
      ],
      "metadata": {
        "id": "48QT22iSGdK9"
      }
    },
    {
      "cell_type": "markdown",
      "source": [
        "1. What is the data type of the following?\n",
        "   a) 42\n",
        "   b) 3.14\n",
        "   c) \"Hello\"\n",
        "   d) True\n",
        "   e) None\n"
      ],
      "metadata": {
        "id": "wpGcco5paL6N"
      }
    },
    {
      "cell_type": "code",
      "execution_count": null,
      "metadata": {
        "colab": {
          "base_uri": "https://localhost:8080/"
        },
        "id": "jvBhB5yvPzcX",
        "outputId": "5646176b-6625-4a53-9f4b-d86012e9c490"
      },
      "outputs": [
        {
          "output_type": "stream",
          "name": "stdout",
          "text": [
            "<class 'int'>\n",
            "<class 'float'>\n",
            "<class 'str'>\n",
            "<class 'bool'>\n",
            "<class 'NoneType'>\n"
          ]
        }
      ],
      "source": [
        "print(type(42))\n",
        "print(type(3.14))\n",
        "print(type(\"Hello\"))\n",
        "print(type(True))\n",
        "print(type(None))"
      ]
    },
    {
      "cell_type": "markdown",
      "source": [
        "2. Convert the following:\n",
        "   a) Convert 7.8 to an integer\n",
        "   b) Convert 10 to a float\n",
        "   c) Convert 0 to a boolean\n",
        "   d) Convert \"42\" to an integer\n"
      ],
      "metadata": {
        "id": "-Evm6yubaVwu"
      }
    },
    {
      "cell_type": "code",
      "execution_count": null,
      "metadata": {
        "colab": {
          "base_uri": "https://localhost:8080/"
        },
        "id": "yiCrHEImR3qc",
        "outputId": "dbb69502-b36d-4461-c377-ab441887225a"
      },
      "outputs": [
        {
          "name": "stdout",
          "output_type": "stream",
          "text": [
            "<class 'int'>\n",
            "<class 'float'>\n",
            "<class 'bool'>\n",
            "<class 'int'>\n"
          ]
        }
      ],
      "source": [
        "a= int(7.8)\n",
        "print(type(a))\n",
        "\n",
        "b= float(10)\n",
        "print(type(b))\n",
        "\n",
        "c= bool(0)\n",
        "print(type(c))\n",
        "\n",
        "d= int(\"42\")\n",
        "print(type(d))\n",
        "# In this example, type(x) returns <class 'int'>, indicating that x is an integer."
      ]
    },
    {
      "cell_type": "markdown",
      "source": [
        "3. What will be the output of the following?\n",
        "   print(type(str(5)))"
      ],
      "metadata": {
        "id": "iIXgZpasacp2"
      }
    },
    {
      "cell_type": "code",
      "execution_count": null,
      "metadata": {
        "colab": {
          "base_uri": "https://localhost:8080/"
        },
        "id": "B2RTxKOSTM5C",
        "outputId": "3bbedd54-b7ee-4672-a976-5d2f7177b383"
      },
      "outputs": [
        {
          "name": "stdout",
          "output_type": "stream",
          "text": [
            "<class 'str'>\n"
          ]
        }
      ],
      "source": [
        "print(type(str(5)))\n",
        "#The str() function in Python converts a given object into its string representation. It's commonly used to ensure that a value is in string form, which is especially useful when concatenating with other strings or when you need to display or log data as text."
      ]
    },
    {
      "cell_type": "markdown",
      "source": [
        "4. Create a variable `my_var` and assign it the value 10. Then, print its type."
      ],
      "metadata": {
        "id": "qKxI1IbQajUY"
      }
    },
    {
      "cell_type": "code",
      "execution_count": null,
      "metadata": {
        "colab": {
          "base_uri": "https://localhost:8080/"
        },
        "id": "DjoC-dFoT7EF",
        "outputId": "70a7bf94-b732-476b-ed30-95306492fb6b"
      },
      "outputs": [
        {
          "name": "stdout",
          "output_type": "stream",
          "text": [
            "<class 'int'>\n"
          ]
        }
      ],
      "source": [
        "my_var = 10\n",
        "print(type(a))\n",
        "# checking type of variable"
      ]
    },
    {
      "cell_type": "markdown",
      "source": [
        "5. Calculate the following:\n",
        "   a) 15 + 7\n",
        "   b) 20 - 8\n",
        "   c) 6 * 4\n",
        "   d) 40 / 5\n",
        "   e) 17 // 3\n",
        "   f) 17 % 3\n",
        "   g) 2 ** 4\n"
      ],
      "metadata": {
        "id": "8x4vyM4ZaoCa"
      }
    },
    {
      "cell_type": "code",
      "execution_count": null,
      "metadata": {
        "colab": {
          "base_uri": "https://localhost:8080/"
        },
        "id": "0hvK25u_Z6ea",
        "outputId": "8d9ed8ff-a2cc-4c05-9bb4-fd125af4b271"
      },
      "outputs": [
        {
          "name": "stdout",
          "output_type": "stream",
          "text": [
            "22\n",
            "12\n",
            "24\n",
            "8.0\n",
            "5\n",
            "2\n",
            "16\n"
          ]
        }
      ],
      "source": [
        "print(15 + 7)\n",
        "print(20 - 8)\n",
        "print(6 * 4)\n",
        "print(40 / 5)\n",
        "print(17 // 3)\n",
        "print(17 % 3)\n",
        "print(2 ** 4)"
      ]
    },
    {
      "cell_type": "markdown",
      "source": [
        "6. What is the output of the following expression?\n",
        "    print(20 - 5  * 3)"
      ],
      "metadata": {
        "id": "tjwz4_faauXZ"
      }
    },
    {
      "cell_type": "code",
      "execution_count": null,
      "metadata": {
        "colab": {
          "base_uri": "https://localhost:8080/"
        },
        "id": "5LjcJum7a4EC",
        "outputId": "3b8a30c2-6d82-49ef-ff44-1249ca82e841"
      },
      "outputs": [
        {
          "name": "stdout",
          "output_type": "stream",
          "text": [
            "5\n"
          ]
        }
      ],
      "source": [
        "print(20 - 5  * 3)\n",
        "#Output is 5 due to it's precedence level because first it'll perform multiplication operation then Subtraction."
      ]
    },
    {
      "cell_type": "markdown",
      "source": [
        "7. Add parentheses to the expression `20 - 5  * 3` to make it evaluate to 45."
      ],
      "metadata": {
        "id": "d_rtiKdxazwN"
      }
    },
    {
      "cell_type": "code",
      "execution_count": null,
      "metadata": {
        "colab": {
          "base_uri": "https://localhost:8080/"
        },
        "id": "0J6h7ZcIbziH",
        "outputId": "fb757726-fe24-467e-8e82-127abde612e6"
      },
      "outputs": [
        {
          "name": "stdout",
          "output_type": "stream",
          "text": [
            "45\n"
          ]
        }
      ],
      "source": [
        "print((20 - 5)  * 3)  # I'm adding parenthesis then it'll first execute breckets & I'm getting desired OUTPUT."
      ]
    },
    {
      "cell_type": "markdown",
      "source": [
        "8. Calculate the area of a circle with radius 5. Use 3.14 for pi."
      ],
      "metadata": {
        "id": "Y9iJN-wqa4ja"
      }
    },
    {
      "cell_type": "code",
      "execution_count": null,
      "metadata": {
        "colab": {
          "base_uri": "https://localhost:8080/"
        },
        "id": "W4SRFJGVdEAG",
        "outputId": "dc89ec93-4dc9-4b19-bde3-5b7d0fc8f565"
      },
      "outputs": [
        {
          "name": "stdout",
          "output_type": "stream",
          "text": [
            "78.5\n"
          ]
        }
      ],
      "source": [
        "radius=5\n",
        "pi=3.14\n",
        "area = pi * radius * radius\n",
        "print(area)"
      ]
    },
    {
      "cell_type": "markdown",
      "source": [
        "9. Use the `input()` function to get two numbers from the user, then print their product."
      ],
      "metadata": {
        "id": "DlK2_r5za99d"
      }
    },
    {
      "cell_type": "code",
      "execution_count": null,
      "metadata": {
        "id": "6MRDQdb-gPFx",
        "colab": {
          "base_uri": "https://localhost:8080/"
        },
        "outputId": "96dbca7f-bd66-4e6f-8e71-2b9590864375"
      },
      "outputs": [
        {
          "output_type": "stream",
          "name": "stdout",
          "text": [
            "Enter a number: 5\n",
            "Enter a number: 4\n",
            "The product of 5 and 4 is: 20\n"
          ]
        }
      ],
      "source": [
        "num1 = int(input(\"Enter a number: \"))\n",
        "num2 = int(input(\"Enter a number: \"))\n",
        "product= num1 * num2\n",
        "print(\"The product of\", num1, \"and\", num2, \"is:\", product)"
      ]
    },
    {
      "cell_type": "markdown",
      "source": [
        "10. Initialize a variable `x` with the value 5. Then increment it by 3 and print the result.\n",
        "\n"
      ],
      "metadata": {
        "id": "EDngzKDObIs0"
      }
    },
    {
      "cell_type": "code",
      "source": [
        "x= 5\n",
        "x += 3\n",
        "\n",
        "print(x)"
      ],
      "metadata": {
        "colab": {
          "base_uri": "https://localhost:8080/"
        },
        "id": "sQCAnFgllEAs",
        "outputId": "616aae57-4007-4057-a602-15e358816234"
      },
      "execution_count": null,
      "outputs": [
        {
          "output_type": "stream",
          "name": "stdout",
          "text": [
            "8\n"
          ]
        }
      ]
    },
    {
      "cell_type": "markdown",
      "source": [
        "11. Create two variables `a` and `b` with values 10 and 20 respectively. Swap their values and print them."
      ],
      "metadata": {
        "id": "2wzoE1vdbNNo"
      }
    },
    {
      "cell_type": "code",
      "source": [
        "a= 10\n",
        "b= 20\n",
        "a,b = b,a\n",
        "\n",
        "print(a, \",\" ,b)"
      ],
      "metadata": {
        "colab": {
          "base_uri": "https://localhost:8080/"
        },
        "id": "RMfGNm0Bl-jU",
        "outputId": "df67efcf-96d1-4ecb-d2bc-27aad1320c99"
      },
      "execution_count": null,
      "outputs": [
        {
          "output_type": "stream",
          "name": "stdout",
          "text": [
            "20 , 10\n"
          ]
        }
      ]
    },
    {
      "cell_type": "markdown",
      "source": [
        "12. Create two string variables with your first and last name. Concatenate them with a space in between and print the result.\n"
      ],
      "metadata": {
        "id": "JwUen7XxbTb6"
      }
    },
    {
      "cell_type": "code",
      "source": [
        "firstname = \"Saba\"\n",
        "lastname = \"Siyal\"\n",
        "\n",
        "print(\"My name is \", firstname, lastname)"
      ],
      "metadata": {
        "colab": {
          "base_uri": "https://localhost:8080/"
        },
        "id": "IgGu2zoVn3Bg",
        "outputId": "ff511428-5a6b-4df5-9ff0-913e8e411b19"
      },
      "execution_count": null,
      "outputs": [
        {
          "output_type": "stream",
          "name": "stdout",
          "text": [
            "My name is  Saba Siyal\n"
          ]
        }
      ]
    },
    {
      "cell_type": "markdown",
      "source": [
        "13. Use an f-string to print \"My name is [your_name] and I am [your_age] years old.\"\n"
      ],
      "metadata": {
        "id": "Pb96uG-_bYgJ"
      }
    },
    {
      "cell_type": "code",
      "source": [
        "name = \"Saba E Yasrab\"\n",
        "age = 22\n",
        "\n",
        "print(f\"My name is {name} and I am {age} years old.\")"
      ],
      "metadata": {
        "colab": {
          "base_uri": "https://localhost:8080/"
        },
        "id": "_4Da8b4I-odm",
        "outputId": "5dd5a85c-3f96-4922-9c2e-b155ab567fe5"
      },
      "execution_count": null,
      "outputs": [
        {
          "output_type": "stream",
          "name": "stdout",
          "text": [
            "My name is Saba E Yasrab and I am 22 years old.\n"
          ]
        }
      ]
    },
    {
      "cell_type": "markdown",
      "source": [
        "14. Use f-strings to print \"The sum of 5 and 3 is 8\"."
      ],
      "metadata": {
        "id": "fAspAMeIbdft"
      }
    },
    {
      "cell_type": "code",
      "source": [
        "num1 = 5\n",
        "num2 = 3\n",
        "\n",
        "print(f\"The sum of {num1} and {num2} is {num1 + num2}\")"
      ],
      "metadata": {
        "colab": {
          "base_uri": "https://localhost:8080/"
        },
        "id": "ja4ImbRJ_909",
        "outputId": "1a968bb5-8e06-4365-dfbc-633966660ded"
      },
      "execution_count": null,
      "outputs": [
        {
          "output_type": "stream",
          "name": "stdout",
          "text": [
            "The sum of 5 and 3 is 8\n"
          ]
        }
      ]
    },
    {
      "cell_type": "markdown",
      "source": [
        "15. Print the following text exactly as shown:\n",
        "    \n",
        "    She said, \"That's a great idea!\"\n"
      ],
      "metadata": {
        "id": "DYYiS_Y7bkan"
      }
    },
    {
      "cell_type": "code",
      "source": [
        "print(''' She said, \"That's a great idea!\" ''')"
      ],
      "metadata": {
        "colab": {
          "base_uri": "https://localhost:8080/"
        },
        "id": "xhWLGTULBHeV",
        "outputId": "26eaa358-c0a7-4f8b-bd2a-06a97b1ae361"
      },
      "execution_count": null,
      "outputs": [
        {
          "output_type": "stream",
          "name": "stdout",
          "text": [
            " She said, \"That's a great idea!\" \n"
          ]
        }
      ]
    },
    {
      "cell_type": "markdown",
      "source": [
        "16. Create a multiline string that prints the following:\n",
        "    ```\n",
        "    Line 1\n",
        "    Line 2\n",
        "    Line 3\n",
        "    ```\n"
      ],
      "metadata": {
        "id": "JxcH2blXbpPu"
      }
    },
    {
      "cell_type": "code",
      "source": [
        "print(\"\"\" ```\n",
        "    Line 1\n",
        "    Line 2\n",
        "    Line 3\n",
        "    ```\n",
        "\"\"\")"
      ],
      "metadata": {
        "colab": {
          "base_uri": "https://localhost:8080/"
        },
        "id": "dh7U_i1xBrEN",
        "outputId": "704ff6ff-601c-419c-dd03-802ac9c5a89a"
      },
      "execution_count": null,
      "outputs": [
        {
          "output_type": "stream",
          "name": "stdout",
          "text": [
            " ```\n",
            "    Line 1\n",
            "    Line 2\n",
            "    Line 3\n",
            "    ```\n",
            "\n"
          ]
        }
      ]
    },
    {
      "cell_type": "markdown",
      "source": [
        "17. What is the output of the following expressions?\n",
        "    a) 5 > 3\n",
        "    b) 10 == \"10\"\n",
        "    c) True and False\n",
        "    d) not True\n",
        "    e) 5 > 3 or 5 < 3\n"
      ],
      "metadata": {
        "id": "ojGD3jVabvT2"
      }
    },
    {
      "cell_type": "code",
      "source": [
        "print(5 > 3) # It will print True if the number 5 is greater than 3\n",
        "print(10 == \"10\") # output will show FALSE because its comparing an integer and a string\n",
        "print(True and False) # simple boolean expression\n",
        "print(not True) # If an expression is True, applying the NOT operator will make it False.If an expression is False, applying the NOT operator will make it True.\n",
        "print(5 > 3 or 5 < 3) # This expression will print True because DEFINETLY 5 is greater than 3"
      ],
      "metadata": {
        "colab": {
          "base_uri": "https://localhost:8080/"
        },
        "id": "6bXrQlJ4CgVO",
        "outputId": "6463bb38-de87-4424-f5cb-ec1e9c6e444d"
      },
      "execution_count": null,
      "outputs": [
        {
          "output_type": "stream",
          "name": "stdout",
          "text": [
            "True\n",
            "False\n",
            "False\n",
            "False\n",
            "True\n"
          ]
        }
      ]
    },
    {
      "cell_type": "markdown",
      "source": [
        "18. Use the `abs()` function to find the absolute value of -15.5\n"
      ],
      "metadata": {
        "id": "cJmTT1mKbzsq"
      }
    },
    {
      "cell_type": "code",
      "source": [
        "given_value = abs(-15.5)\n",
        "\n",
        "print(given_value) #The purpose of abs() is to ensure that a value is always non-negative, regardless of its original sign."
      ],
      "metadata": {
        "colab": {
          "base_uri": "https://localhost:8080/"
        },
        "id": "Q7ChKx9bDPH_",
        "outputId": "2cc38d45-bea0-4ef2-beac-0c87cb339155"
      },
      "execution_count": null,
      "outputs": [
        {
          "output_type": "stream",
          "name": "stdout",
          "text": [
            "15.5\n"
          ]
        }
      ]
    },
    {
      "cell_type": "markdown",
      "source": [
        "19. Use the `round()` function to round 3.14159 to three decimal places."
      ],
      "metadata": {
        "id": "7mM6wFh5b5GU"
      }
    },
    {
      "cell_type": "code",
      "source": [
        "value = round(3.14159 , 3)\n",
        "print(value) # The purpose of round() is to simplify numbers by reducing the number of decimal places, which can be useful for displaying results or making calculations more manageable."
      ],
      "metadata": {
        "colab": {
          "base_uri": "https://localhost:8080/"
        },
        "id": "fOPw8ZyIEeXx",
        "outputId": "64b7e71a-657f-40c8-c058-1ec186ba6b27"
      },
      "execution_count": null,
      "outputs": [
        {
          "output_type": "stream",
          "name": "stdout",
          "text": [
            "3.142\n"
          ]
        }
      ]
    },
    {
      "cell_type": "markdown",
      "source": [
        "20. Write an if-elif-else statement that prints \"Small\" if a number is less than 10, \"Medium\" if it's between 10 and 50, and \"Large\" if it's greater than 50.\n"
      ],
      "metadata": {
        "id": "VEPcNCONb9ST"
      }
    },
    {
      "cell_type": "code",
      "source": [
        "number = int(input(\"Enter a number: \"))\n",
        "\n",
        "if number < 10:\n",
        " print(\"Small\")\n",
        "elif 10 <= number <= 50:\n",
        " print(\"Medium\")\n",
        "else:\n",
        " print(\"Large\") # The if-elif-else statement in Python is used to execute different blocks of code based on certain conditions"
      ],
      "metadata": {
        "colab": {
          "base_uri": "https://localhost:8080/"
        },
        "id": "gKsGTmX8FSoO",
        "outputId": "aff02f45-014e-4ee8-e07b-f60508e64d3d"
      },
      "execution_count": null,
      "outputs": [
        {
          "output_type": "stream",
          "name": "stdout",
          "text": [
            "Enter a number: 56\n",
            "Large\n"
          ]
        }
      ]
    },
    {
      "cell_type": "markdown",
      "source": [
        "21. Create a program that takes a boolean value as input and prints its string representation."
      ],
      "metadata": {
        "id": "9SGzqqniJKOC"
      }
    },
    {
      "cell_type": "code",
      "source": [
        "bool_input = input(\"Enter a boolean value: \")\n",
        "print(str(bool_input))\n",
        "print(type(bool_input))"
      ],
      "metadata": {
        "colab": {
          "base_uri": "https://localhost:8080/"
        },
        "id": "m8lkh-9rLBQU",
        "outputId": "75cf8cc9-39ca-4d5c-a5bc-f33c1e478af3"
      },
      "execution_count": null,
      "outputs": [
        {
          "output_type": "stream",
          "name": "stdout",
          "text": [
            "Enter a boolean value: 1\n",
            "1\n",
            "<class 'str'>\n"
          ]
        }
      ]
    },
    {
      "cell_type": "markdown",
      "source": [
        "22. Write a function that takes a person's name as an argument and returns a greeting message."
      ],
      "metadata": {
        "id": "O17N6ft5JnLC"
      }
    },
    {
      "cell_type": "code",
      "source": [
        "def greeting(name):\n",
        "  print(f\"Hello {name}\")\n",
        "greeting(\"Saba!\")"
      ],
      "metadata": {
        "colab": {
          "base_uri": "https://localhost:8080/"
        },
        "id": "qqwFv9L-LiLD",
        "outputId": "e2acdf7e-ce89-4fbc-cae0-25dc3b1fb118"
      },
      "execution_count": null,
      "outputs": [
        {
          "output_type": "stream",
          "name": "stdout",
          "text": [
            "Hello Saba!\n"
          ]
        }
      ]
    },
    {
      "cell_type": "markdown",
      "source": [
        "23. Create a function that takes an integer as input and prints whether it is even or odd.\n"
      ],
      "metadata": {
        "id": "KJnUQPfmJshl"
      }
    },
    {
      "cell_type": "code",
      "source": [
        "num = int(input(\"Enter a number to check whether it's even or odd: \"))\n",
        "if num % 2 == 0:\n",
        "        print(f\"{num} is Even\")\n",
        "else:\n",
        "        print(f\"{num} is Odd\")"
      ],
      "metadata": {
        "colab": {
          "base_uri": "https://localhost:8080/"
        },
        "id": "IVk0sjpPL3CA",
        "outputId": "ae2817d6-33b9-4a2e-b66f-0aa0b695f21b"
      },
      "execution_count": null,
      "outputs": [
        {
          "output_type": "stream",
          "name": "stdout",
          "text": [
            "Enter a number to check whether it's even or odd: 11\n",
            "11 is Odd\n"
          ]
        }
      ]
    },
    {
      "cell_type": "markdown",
      "source": [
        "24. Write a program that takes a number as input and prints whether it is within the range of 1 to 100 (inclusive).\n"
      ],
      "metadata": {
        "id": "S78W9PBtJv91"
      }
    },
    {
      "cell_type": "code",
      "source": [
        "num = int(input(\"Enter any number: \"))\n",
        "\n",
        "if 1 <= num <= 100:\n",
        " print(f\"{num} is within the range.\")\n",
        "else:\n",
        "  print(f\"{num} is not in range.\")"
      ],
      "metadata": {
        "colab": {
          "base_uri": "https://localhost:8080/"
        },
        "id": "qb1_9dA8MMPL",
        "outputId": "20a7c67f-c0c2-4ff8-9211-f4cb5e70e236"
      },
      "execution_count": null,
      "outputs": [
        {
          "output_type": "stream",
          "name": "stdout",
          "text": [
            "Enter any number: 668\n",
            "668 is not in range.\n"
          ]
        }
      ]
    },
    {
      "cell_type": "markdown",
      "source": [
        "25. Create a function that calculates the volume of a cube given its side length."
      ],
      "metadata": {
        "id": "PZXmVYR7JzKr"
      }
    },
    {
      "cell_type": "code",
      "source": [
        "def cube_volume(length,width,height):\n",
        " volume = length*width*height\n",
        " print(f\"Volume of cube is: {volume}\")\n",
        "cube_volume(5,2,7)"
      ],
      "metadata": {
        "colab": {
          "base_uri": "https://localhost:8080/"
        },
        "id": "kHBxfpFhMdMb",
        "outputId": "56004d6e-d4b0-4e16-d3e0-fb30b9427a80"
      },
      "execution_count": null,
      "outputs": [
        {
          "output_type": "stream",
          "name": "stdout",
          "text": [
            "Volume of cube is: 70\n"
          ]
        }
      ]
    },
    {
      "cell_type": "markdown",
      "source": [
        "26. Create a function that calculates the average of three integers."
      ],
      "metadata": {
        "id": "-pjGhsbkJ4_H"
      }
    },
    {
      "cell_type": "code",
      "source": [
        "def avg_of_three_nums(num1,num2,num3):\n",
        "  average = (num1+num2+num3)/3\n",
        "  return average\n",
        "avg_of_three_nums(2,4,1)"
      ],
      "metadata": {
        "colab": {
          "base_uri": "https://localhost:8080/"
        },
        "id": "bpIgvhr1M_Sy",
        "outputId": "52fa6040-6e57-4a41-9a35-c2dc98849aef"
      },
      "execution_count": null,
      "outputs": [
        {
          "output_type": "execute_result",
          "data": {
            "text/plain": [
              "2.3333333333333335"
            ]
          },
          "metadata": {},
          "execution_count": 12
        }
      ]
    },
    {
      "cell_type": "markdown",
      "source": [
        "\n",
        "27. Create a function that converts a decimal number to its binary representation.\n"
      ],
      "metadata": {
        "id": "6CsAdaBMJ97f"
      }
    },
    {
      "cell_type": "code",
      "source": [
        "def decimal_to_binary(decimal):\n",
        " conversion = bin(decimal)\n",
        " return conversion\n",
        "decimal_to_binary(12)"
      ],
      "metadata": {
        "colab": {
          "base_uri": "https://localhost:8080/",
          "height": 36
        },
        "id": "rpEf-MpMOdpT",
        "outputId": "8f16b29a-d187-469a-ca09-676dce7d3e1c"
      },
      "execution_count": null,
      "outputs": [
        {
          "output_type": "execute_result",
          "data": {
            "text/plain": [
              "'0b1100'"
            ],
            "application/vnd.google.colaboratory.intrinsic+json": {
              "type": "string"
            }
          },
          "metadata": {},
          "execution_count": 13
        }
      ]
    },
    {
      "cell_type": "markdown",
      "source": [
        "28. Write a program that takes three floats as input and prints True if all values are equal, otherwise False.\n"
      ],
      "metadata": {
        "id": "CJ4OH7BeKCA5"
      }
    },
    {
      "cell_type": "code",
      "source": [
        "num1 = float(input(\"Enter first float value: \"))\n",
        "num2 = float(input(\"Enter second float value: \"))\n",
        "num3 = float(input(\"Enter third float value: \"))\n",
        "\n",
        "if num1 == num2 == num3:\n",
        "  print(True)\n",
        "else:\n",
        "  print(False)"
      ],
      "metadata": {
        "colab": {
          "base_uri": "https://localhost:8080/"
        },
        "id": "dtIHLAZ_OrGS",
        "outputId": "06478385-7735-40e2-ab6b-5757b81581f3"
      },
      "execution_count": null,
      "outputs": [
        {
          "output_type": "stream",
          "name": "stdout",
          "text": [
            "Enter first float value: 11\n",
            "Enter second float value: 99\n",
            "Enter third float value: 77\n",
            "False\n"
          ]
        }
      ]
    },
    {
      "cell_type": "markdown",
      "source": [
        "29. Write a program that takes two integers as input and prints True if their sum is greater than 100, otherwise False."
      ],
      "metadata": {
        "id": "lgMtpgAbKFOF"
      }
    },
    {
      "cell_type": "code",
      "source": [
        "num1 = int(input(\"Enter first value: \"))\n",
        "num2 = int(input(\"Enter second value: \"))\n",
        "\n",
        "if num1 + num2 > 100:\n",
        "  print(True)\n",
        "else:\n",
        "  print(False)"
      ],
      "metadata": {
        "colab": {
          "base_uri": "https://localhost:8080/"
        },
        "id": "7ZHrkj5pO5ea",
        "outputId": "23c934f2-f7a5-4b38-e5d8-7fb1f32c6748"
      },
      "execution_count": null,
      "outputs": [
        {
          "output_type": "stream",
          "name": "stdout",
          "text": [
            "Enter first value: 66\n",
            "Enter second value: 7\n",
            "False\n"
          ]
        }
      ]
    },
    {
      "cell_type": "markdown",
      "source": [
        "30. Write a function that takes a string and an integer as arguments and returns a new string with the integer inserted at the beginning.\n"
      ],
      "metadata": {
        "id": "1fw_xlddKJJv"
      }
    },
    {
      "cell_type": "code",
      "source": [
        "def number_string(number,string):\n",
        " new_str = str(number)+ \" \" + string\n",
        " return new_str\n",
        "number_string(13,\"Saba\")"
      ],
      "metadata": {
        "colab": {
          "base_uri": "https://localhost:8080/",
          "height": 36
        },
        "id": "F1_9lXBjPGos",
        "outputId": "171a01ce-9272-4f79-80c0-5dcb285dcb2b"
      },
      "execution_count": null,
      "outputs": [
        {
          "output_type": "execute_result",
          "data": {
            "text/plain": [
              "'13 Saba'"
            ],
            "application/vnd.google.colaboratory.intrinsic+json": {
              "type": "string"
            }
          },
          "metadata": {},
          "execution_count": 16
        }
      ]
    },
    {
      "cell_type": "markdown",
      "source": [
        "31. Write a program that takes an integer as input and prints whether it is positive, negative, or zero."
      ],
      "metadata": {
        "id": "YdHP9S0zKMK5"
      }
    },
    {
      "cell_type": "code",
      "source": [
        "n = int(input(\"Enter number: \"))\n",
        "\n",
        "if n > 0:\n",
        "        print(\"The number is positive.\")\n",
        "elif n < 0:\n",
        "        print(\"The number is negative.\")\n",
        "else:\n",
        "        print(\"The number is zero.\")"
      ],
      "metadata": {
        "colab": {
          "base_uri": "https://localhost:8080/"
        },
        "id": "l8OQySlEPTXg",
        "outputId": "264bf814-2c56-4911-fd34-e058e9935b83"
      },
      "execution_count": null,
      "outputs": [
        {
          "output_type": "stream",
          "name": "stdout",
          "text": [
            "Enter number: 33\n",
            "The number is positive.\n"
          ]
        }
      ]
    },
    {
      "cell_type": "markdown",
      "source": [
        "32. Create a function that takes three numbers and returns the largest among them.\n",
        "\n"
      ],
      "metadata": {
        "id": "lFOhHcq9KQJk"
      }
    },
    {
      "cell_type": "code",
      "source": [
        "def find_largest(num1, num2, num3):\n",
        "    return max(num1, num2, num3)\n",
        "\n",
        "num1 = int(input(\"Enter the first number: \"))\n",
        "num2 = int(input(\"Enter the second number: \"))\n",
        "num3 = int(input(\"Enter the third number: \"))\n",
        "\n",
        "largest = find_largest(num1, num2, num3)\n",
        "print(f\"The largest number is: {largest}\")"
      ],
      "metadata": {
        "colab": {
          "base_uri": "https://localhost:8080/"
        },
        "id": "11AVcOUqPboc",
        "outputId": "c7c07bc6-1d70-468d-ed22-c649ea8c7239"
      },
      "execution_count": null,
      "outputs": [
        {
          "output_type": "stream",
          "name": "stdout",
          "text": [
            "Enter the first number: 2\n",
            "Enter the second number: 55\n",
            "Enter the third number: 99\n",
            "The largest number is: 99\n"
          ]
        }
      ]
    },
    {
      "cell_type": "markdown",
      "source": [
        "33. Create a function that takes a string representing a day of the week (e.g., \"Monday\") and prints whether it is a weekday or a weekend.\n"
      ],
      "metadata": {
        "id": "s2HjuljOKTfB"
      }
    },
    {
      "cell_type": "code",
      "source": [
        "def find_week(day):\n",
        "    if day == \"Saturday\" or \"Sunday\":\n",
        "        return \"Weekend\"\n",
        "    else:\n",
        "        return \"Weekday\"\n",
        "\n",
        "day = str(input(\"Enter the day: \"))\n",
        "result = find_week(day)\n",
        "print(result)"
      ],
      "metadata": {
        "colab": {
          "base_uri": "https://localhost:8080/"
        },
        "id": "IBMsR5BWPmwO",
        "outputId": "9b51be92-6b56-43a8-c321-959c0cd3cad5"
      },
      "execution_count": null,
      "outputs": [
        {
          "output_type": "stream",
          "name": "stdout",
          "text": [
            "Enter the day: Saturday \n",
            "Weekend\n"
          ]
        }
      ]
    },
    {
      "cell_type": "markdown",
      "source": [
        "34. Write a program that converts temperature from Celsius to Fahrenheit. Ask the user for the temperature in Celsius and print the result in Fahrenheit. (Formula: F = C * 9/5 + 32)\n"
      ],
      "metadata": {
        "id": "0tWdESyQKZE_"
      }
    },
    {
      "cell_type": "code",
      "source": [
        "def celsius_to_fahrenheit(celsius):\n",
        "    fahrenheit = celsius * 9/5 + 32\n",
        "    return fahrenheit\n",
        "\n",
        "celsius = float(input(\"Enter temperature in Celsius: \"))\n",
        "fahrenheit = celsius_to_fahrenheit(celsius)\n",
        "print(f\"The temperature in Fahrenheit is: {fahrenheit:.2f}°F\")"
      ],
      "metadata": {
        "colab": {
          "base_uri": "https://localhost:8080/"
        },
        "id": "Hx1jibU3Pxte",
        "outputId": "69a8c082-7df9-4747-ac81-d76807bd125d"
      },
      "execution_count": null,
      "outputs": [
        {
          "output_type": "stream",
          "name": "stdout",
          "text": [
            "Enter temperature in Celsius: 44\n",
            "The temperature in Fahrenheit is: 111.20°F\n"
          ]
        }
      ]
    },
    {
      "cell_type": "markdown",
      "source": [
        "35. Write a program that takes a temperature in Celsius as input and prints whether it is cold (below 10°C), warm (10°C to 25°C), or hot (above 25°C).\n",
        "\n"
      ],
      "metadata": {
        "id": "rlTSUHzSKeqH"
      }
    },
    {
      "cell_type": "code",
      "source": [
        "def category_of_temp(celsius):\n",
        "    if celsius < 10:\n",
        "        return \"cold\"\n",
        "    elif 10 <= celsius <= 25:\n",
        "        return \"warm\"\n",
        "    else:\n",
        "        return \"hot\"\n",
        "\n",
        "temperature = int(input(\"Enter the temperature in Celsius: \"))\n",
        "category = category_of_temp(temperature)\n",
        "print(f\"The temperature is {category}.\")"
      ],
      "metadata": {
        "colab": {
          "base_uri": "https://localhost:8080/"
        },
        "id": "za2OlysdP6O-",
        "outputId": "90cf0f3f-fdfd-4c05-dcf9-bdd5285f232e"
      },
      "execution_count": null,
      "outputs": [
        {
          "output_type": "stream",
          "name": "stdout",
          "text": [
            "Enter the temperature in Celsius: 33\n",
            "The temperature is hot.\n"
          ]
        }
      ]
    },
    {
      "cell_type": "markdown",
      "source": [
        "36. Write a function that takes a string and a boolean as arguments and returns the string repeated twice (‘stringstring’) if the boolean is True, otherwise returns an empty string."
      ],
      "metadata": {
        "id": "MogM6_rpKkvk"
      }
    },
    {
      "cell_type": "code",
      "source": [
        "def function(Saba,shorty):\n",
        "  if shorty:\n",
        "    return shorty + shorty\n",
        "  else:\n",
        "    return \" \"\n",
        "input_string = input(\"Enter a string: \")\n",
        "input_boolean = input(\"Enter True or False: \")\n",
        "result = function(input_string, input_string)\n",
        "print(f\"Result: '{result}'\")"
      ],
      "metadata": {
        "colab": {
          "base_uri": "https://localhost:8080/"
        },
        "id": "YHXtPwAYQS7X",
        "outputId": "19d7507f-f533-49d0-9f56-9d2eb5b170d2"
      },
      "execution_count": null,
      "outputs": [
        {
          "output_type": "stream",
          "name": "stdout",
          "text": [
            "Enter a string: saba\n",
            "Enter True or False: TRUE\n",
            "Result: 'sabasaba'\n"
          ]
        }
      ]
    },
    {
      "cell_type": "markdown",
      "source": [
        "37. Write a program that asks for the user's age and prints whether they are a child (0-12), teenager (13-19), adult (20-59), or senior (60+).\n",
        "\n"
      ],
      "metadata": {
        "id": "8S34YShbKrIg"
      }
    },
    {
      "cell_type": "code",
      "source": [
        "age = int(input(\"Enter your age: \"))\n",
        "\n",
        "if age >= 0 and age <=12:\n",
        " print(\"Child\")\n",
        "elif age >= 13 and age <=19:\n",
        "  print(\"Teenager.\")\n",
        "elif age >= 20 and age <=59:\n",
        "  print(\"Adults.\")\n",
        "else:\n",
        "  print( \"Seniors.\")"
      ],
      "metadata": {
        "colab": {
          "base_uri": "https://localhost:8080/"
        },
        "id": "MJsIsgrNQetw",
        "outputId": "2f4753e1-367f-4a8a-f20f-3dc7e3eb1848"
      },
      "execution_count": null,
      "outputs": [
        {
          "output_type": "stream",
          "name": "stdout",
          "text": [
            "Enter your age: 22\n",
            "Adults.\n"
          ]
        }
      ]
    },
    {
      "cell_type": "markdown",
      "source": [
        "38. Create a function that converts a numerical grade to a letter grade according to the following scale:\n",
        "    - 90-100: A\n",
        "    - 80-89: B\n",
        "    - 70-79: C\n",
        "    - 60-69: D\n",
        "    - Below 60: F\n",
        "   The function should return \"Invalid\" if the input is not between 0 and 100.\n"
      ],
      "metadata": {
        "id": "ViKoIYvoKvS3"
      }
    },
    {
      "cell_type": "code",
      "source": [
        "grade = int(input(\"Enter marks: \"))\n",
        "\n",
        "if 90 <= grade <= 100:\n",
        "    print(\"A\")\n",
        "elif 80 <= grade <= 89:\n",
        "    print(\"B\")\n",
        "elif 70 <= grade <= 79:\n",
        "    print(\"C\")\n",
        "elif 60 <= grade <= 69:\n",
        "    print(\"D\")\n",
        "elif 0 <= grade < 60:\n",
        "    print(\"F\")\n",
        "else:\n",
        "    print(\"Invalid\")"
      ],
      "metadata": {
        "colab": {
          "base_uri": "https://localhost:8080/"
        },
        "id": "kI2lNlhaQp-1",
        "outputId": "e0e5303a-1f24-49ee-ef41-6212362ffdf6"
      },
      "execution_count": null,
      "outputs": [
        {
          "output_type": "stream",
          "name": "stdout",
          "text": [
            "Enter marks: 55\n",
            "F\n"
          ]
        }
      ]
    },
    {
      "cell_type": "markdown",
      "source": [
        "39. Write a program that determines if a year is a leap year. (A leap year is divisible by 4, except for century years, which must be divisible by 400).\n"
      ],
      "metadata": {
        "id": "N-3PsM52K0tp"
      }
    },
    {
      "cell_type": "code",
      "source": [
        "year = int(input(\"Enter the year: \"))\n",
        "\n",
        "if year % 100 == 0 and year % 400 == 0:\n",
        "  print(f\"{year} is a Leap year.\")\n",
        "elif year % 4 == 0 and year % 100 != 0:\n",
        "  print(f\"{year} is a Leap year.\")\n",
        "else:\n",
        "  print(f\"{year} is a Not a Leap year.\")"
      ],
      "metadata": {
        "colab": {
          "base_uri": "https://localhost:8080/"
        },
        "id": "oF1SWV97Q2zz",
        "outputId": "135536ce-1bc2-4c84-81d3-ef9256ac1617"
      },
      "execution_count": null,
      "outputs": [
        {
          "output_type": "stream",
          "name": "stdout",
          "text": [
            "Enter the year: 2025\n",
            "2025 is a Not a Leap year.\n"
          ]
        }
      ]
    },
    {
      "cell_type": "markdown",
      "source": [
        "40. Create a simple calculator program that asks for two numbers and an operation (+, -, *, /), then prints the result. Use if-elif-else statements.\n"
      ],
      "metadata": {
        "id": "wS1u0xb2K4j3"
      }
    },
    {
      "cell_type": "code",
      "source": [
        "num1 = int(input(\"Enter first number: \"))\n",
        "operation = input(\"Enter an operation (+, -, *, /): \")\n",
        "num2 = int(input(\"Enter second number: \"))\n",
        "\n",
        "if operation == \"+\":\n",
        "  print(num1+num2)\n",
        "elif operation == \"-\":\n",
        "  print(num1-num2)\n",
        "elif operation == \"*\":\n",
        "  print(num1*num2)\n",
        "elif operation == \"/\":\n",
        "  print(num1/num2)\n",
        "else:\n",
        "  print(\"Invalid Operator.\")"
      ],
      "metadata": {
        "colab": {
          "base_uri": "https://localhost:8080/"
        },
        "id": "b7YeZMrXRAD-",
        "outputId": "b4617d24-17ea-42ca-f282-51512a086c93"
      },
      "execution_count": null,
      "outputs": [
        {
          "output_type": "stream",
          "name": "stdout",
          "text": [
            "Enter first number: 12\n",
            "Enter an operation (+, -, *, /): *\n",
            "Enter second number: 2\n",
            "24\n"
          ]
        }
      ]
    }
  ],
  "metadata": {
    "colab": {
      "provenance": [],
      "authorship_tag": "ABX9TyNCPyePwxavpmidGcSIJLin",
      "include_colab_link": true
    },
    "kernelspec": {
      "display_name": "Python 3",
      "name": "python3"
    },
    "language_info": {
      "name": "python"
    }
  },
  "nbformat": 4,
  "nbformat_minor": 0
}